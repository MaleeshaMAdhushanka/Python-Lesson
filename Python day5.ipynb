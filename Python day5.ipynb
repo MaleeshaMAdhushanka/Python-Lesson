{
 "cells": [
  {
   "cell_type": "code",
   "execution_count": 1,
   "id": "f31ed541",
   "metadata": {},
   "outputs": [
    {
     "data": {
      "text/plain": [
       "44"
      ]
     },
     "execution_count": 1,
     "metadata": {},
     "output_type": "execute_result"
    }
   ],
   "source": [
    "my_list = [8, 9, 12, 15]\n",
    "\n",
    "sum(my_list)"
   ]
  },
  {
   "cell_type": "code",
   "execution_count": null,
   "id": "63435dd5",
   "metadata": {},
   "outputs": [
    {
     "data": {
      "text/plain": [
       "54"
      ]
     },
     "execution_count": 1,
     "metadata": {},
     "output_type": "execute_result"
    }
   ],
   "source": [
    "my_list = [8, 9, 12, 15]\n",
    "\n",
    "sum(my_list, 10)\n",
    "# Athin ekathu kara"
   ]
  },
  {
   "cell_type": "code",
   "execution_count": 5,
   "id": "fff92f91",
   "metadata": {},
   "outputs": [
    {
     "name": "stdout",
     "output_type": "stream",
     "text": [
      "False\n"
     ]
    }
   ],
   "source": [
    "#  IsInstance()\n",
    "# x = 10.5\n",
    "# print(isinstance(x, float))\n",
    "\n",
    "# x = 10.5\n",
    "# print(isinstance(x,  (int, float)))\n",
    "\n",
    "x = \"John\"\n",
    "print(isinstance(x,  (int, float)))\n",
    "\n"
   ]
  },
  {
   "cell_type": "code",
   "execution_count": null,
   "id": "ed0181ec",
   "metadata": {},
   "outputs": [
    {
     "name": "stdout",
     "output_type": "stream",
     "text": [
      "My name is John and I am 30 years old.\n"
     ]
    }
   ],
   "source": [
    "# F strings\n",
    "name =\"John\"\n",
    " \n",
    "age = 30\n",
    "\n",
    "print(f\"My name is {name} and I am {age} years old.\")"
   ]
  },
  {
   "cell_type": "code",
   "execution_count": 3,
   "id": "a5425901",
   "metadata": {},
   "outputs": [
    {
     "name": "stdout",
     "output_type": "stream",
     "text": [
      "\n",
      "0\n"
     ]
    }
   ],
   "source": [
    "# Class name first latter captial - Capwords or Pascal case (as  per the PEP 8 style guide)- ex - MyCar, User, ElectricVehicle,\n",
    " \n",
    "class Student:\n",
    "    name = \"\"\n",
    "    age = 0\n",
    "\n",
    "student_1 = Student()\n",
    "print(student_1.name)\n",
    "print(student_1.age)"
   ]
  },
  {
   "cell_type": "code",
   "execution_count": 9,
   "id": "c150367d",
   "metadata": {},
   "outputs": [
    {
     "name": "stdout",
     "output_type": "stream",
     "text": [
      "This car has 4 wheels\n",
      "Car drives to Office on 4 wheels\n"
     ]
    }
   ],
   "source": [
    "class Car:\n",
    "    wheels = 4 # class attribute\n",
    "\n",
    "    def display_wheels(self): #instance method\n",
    "        print(f\"This car has {self.wheels} wheels\")\n",
    "\n",
    "    def drivete_to(self, destination): #instance method\n",
    "        print(f\"Car drives to {destination} on {self.wheels} wheels\")   \n",
    "\n",
    "     \n",
    "\n",
    "\n",
    "car_1 = Car()\n",
    "car_1.display_wheels()\n",
    "\n",
    "car_1.drivete_to(\"Office\")\n"
   ]
  },
  {
   "cell_type": "code",
   "execution_count": 4,
   "id": "39ec52e4",
   "metadata": {},
   "outputs": [
    {
     "name": "stdout",
     "output_type": "stream",
     "text": [
      "Constructor has been called\n",
      "Blue BMW drives to Office with 4 wheels\n",
      "Blue color BMW runs on 4 wheels\n"
     ]
    }
   ],
   "source": [
    "class Car:\n",
    "    wheel  = 4\n",
    "\n",
    "    def __init__(self, brand, color):\n",
    "        print(\"Constructor has been called\")\n",
    "        self.brand = brand\n",
    "        self.color = color\n",
    "\n",
    "    def drive_to(self, destination):\n",
    "         print(f\"{self.color} {self.brand} drives to {destination} with {self.wheel} wheels\")\n",
    "\n",
    "    def display_info(self):\n",
    "        print(f\"{self.color} color {self.brand} runs on {self.wheel} wheels\")    \n",
    "\n",
    "\n",
    "\n",
    "car_1 = Car(\"BMW\", \"Blue\")   \n",
    "car_1.drive_to(\"Office\")\n",
    "car_1.display_info()"
   ]
  },
  {
   "cell_type": "code",
   "execution_count": null,
   "id": "e2aac4cb",
   "metadata": {},
   "outputs": [
    {
     "name": "stdout",
     "output_type": "stream",
     "text": [
      "The area is 50 and the perimeter is 30\n"
     ]
    }
   ],
   "source": [
    "# You are ask to difine a python class name Rectangle that models a rectangle using oop principles.\n",
    "#  The class should be initialized with two paramaters length and width. it must include a method area that returns the area of rectangle. and another method\n",
    "# get perimeter that returns its perimeter.\n",
    "# Additionally implement and instance method  name describe that calls both area and get perimeter methods and print a message in the format \n",
    "# \"The are is x and the perimeter is y\"\n",
    "\n",
    "# Create and object of th class  with length 10 and width 5 and call the describe method to show the expected output.\n",
    "\n",
    "\n",
    "class Rectangle:\n",
    "    def __init__(self, length, width):\n",
    "        self.length = length\n",
    "        self.width = width\n",
    "\n",
    "    def area(self):\n",
    "        return self.length * self.width\n",
    "\n",
    "    def get_perimeter(self):\n",
    "        return 2 * (self.length + self.width)\n",
    "\n",
    "    def describe(self):\n",
    "        \n",
    "        area_value = self.area()\n",
    "        perimeter_value = self.get_perimeter()\n",
    "        print(f\"The area is {area_value} and the perimeter is {perimeter_value}\")\n",
    "\n",
    "rectangle_1 = Rectangle(10, 5)\n",
    "rectangle_1.describe()\n",
    "\n",
    "\n",
    "\n",
    "\n",
    "\n"
   ]
  }
 ],
 "metadata": {
  "kernelspec": {
   "display_name": "Python 3",
   "language": "python",
   "name": "python3"
  },
  "language_info": {
   "codemirror_mode": {
    "name": "ipython",
    "version": 3
   },
   "file_extension": ".py",
   "mimetype": "text/x-python",
   "name": "python",
   "nbconvert_exporter": "python",
   "pygments_lexer": "ipython3",
   "version": "3.13.4"
  }
 },
 "nbformat": 4,
 "nbformat_minor": 5
}
