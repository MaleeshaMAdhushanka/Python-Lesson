{
 "cells": [
  {
   "cell_type": "code",
   "execution_count": null,
   "id": "fb731577",
   "metadata": {},
   "outputs": [],
   "source": [
    "#  Rules for naming Python Variables:\n",
    "\n",
    "# legal variable names\n",
    "\n",
    "newvar = \"John\"  #not illegal , but not good\n",
    "new_var = \"John\"\n",
    "_new_var = \"John\"\n",
    "newVar = \"John\"  #not illegal , but not good\n",
    "NEWVAR =  \"John\"  #not illegal , but not good\n",
    "newVar1 = \"John\"  #not illegal , but not good\n",
    "\n",
    "# illegal variable names\n",
    "# 2newVar = \"John\"\n",
    "# new-var = \"John\"  #not illegal , but not good\n",
    "# new var = \"John\""
   ]
  },
  {
   "cell_type": "code",
   "execution_count": 5,
   "id": "c61ca3f2",
   "metadata": {},
   "outputs": [
    {
     "name": "stdout",
     "output_type": "stream",
     "text": [
      "30\n"
     ]
    }
   ],
   "source": [
    "a = 10\n",
    "b = 20\n",
    "\n",
    "print(a+b)"
   ]
  },
  {
   "cell_type": "code",
   "execution_count": 6,
   "id": "d497caa5",
   "metadata": {},
   "outputs": [
    {
     "name": "stdout",
     "output_type": "stream",
     "text": [
      "800\n"
     ]
    }
   ],
   "source": [
    "num_1 = 80\n",
    "num_2 = 10\n",
    "\n",
    "print(num_1 * num_2)"
   ]
  },
  {
   "cell_type": "code",
   "execution_count": null,
   "id": "b2545bec",
   "metadata": {},
   "outputs": [],
   "source": [
    "_num = 25"
   ]
  },
  {
   "cell_type": "code",
   "execution_count": 7,
   "id": "a8027949",
   "metadata": {},
   "outputs": [
    {
     "name": "stdout",
     "output_type": "stream",
     "text": [
      "25\n",
      "<class 'int'>\n"
     ]
    }
   ],
   "source": [
    "num = 25\n",
    "print(num)\n",
    "print(type(num))"
   ]
  },
  {
   "cell_type": "code",
   "execution_count": 8,
   "id": "ce016fe0",
   "metadata": {},
   "outputs": [
    {
     "name": "stdout",
     "output_type": "stream",
     "text": [
      "<class 'float'>\n"
     ]
    }
   ],
   "source": [
    "num_2 = 20.5\n",
    "print(type(num_2))"
   ]
  },
  {
   "cell_type": "code",
   "execution_count": 9,
   "id": "4347c569",
   "metadata": {},
   "outputs": [
    {
     "name": "stdout",
     "output_type": "stream",
     "text": [
      "<class 'complex'>\n"
     ]
    }
   ],
   "source": [
    "a = 10 + 20j\n",
    "print(type(a))"
   ]
  },
  {
   "cell_type": "code",
   "execution_count": 10,
   "id": "b9881f8c",
   "metadata": {},
   "outputs": [
    {
     "name": "stdout",
     "output_type": "stream",
     "text": [
      "2500000000000.0 <class 'float'>\n"
     ]
    }
   ],
   "source": [
    "num_3 = 2.5e12\n",
    "\n",
    "print(num_3, type(num_3))"
   ]
  },
  {
   "cell_type": "code",
   "execution_count": 11,
   "id": "99e6d27f",
   "metadata": {},
   "outputs": [
    {
     "name": "stdout",
     "output_type": "stream",
     "text": [
      "7 <class 'int'>\n",
      "7.0 <class 'float'>\n"
     ]
    }
   ],
   "source": [
    "x = 7\n",
    "\n",
    "a = float(x)\n",
    "\n",
    "print(x, type(x))\n",
    "print(a, type(a))"
   ]
  },
  {
   "cell_type": "code",
   "execution_count": 12,
   "id": "7be6e49a",
   "metadata": {},
   "outputs": [
    {
     "name": "stdout",
     "output_type": "stream",
     "text": [
      "20.8 <class 'float'>\n",
      "20 <class 'int'>\n"
     ]
    }
   ],
   "source": [
    "y = 20.8\n",
    "\n",
    "b = int(y)\n",
    "\n",
    "print(y, type(y))\n",
    "print(b, type(b))"
   ]
  },
  {
   "cell_type": "code",
   "execution_count": null,
   "id": "bf52040a",
   "metadata": {},
   "outputs": [],
   "source": [
    "# In computer programming, data types specify the type of data \n",
    "# that can be stored inside a variable.\n",
    "\n",
    "num = 25\n"
   ]
  },
  {
   "cell_type": "code",
   "execution_count": null,
   "id": "63eeca6b",
   "metadata": {},
   "outputs": [],
   "source": [
    "# Built-in data types in Python \n",
    "# Numeric Types: int, float, complex \n",
    "# • String data types: str \n",
    "# Sequence types: list, tuple, range \n",
    "# Binary types: bytes, bytearray, memoryview \n",
    "# Mapping data type: dict \n",
    "# Boolean type: bool \n",
    "# Set data types: set, frozenset \n"
   ]
  },
  {
   "cell_type": "code",
   "execution_count": null,
   "id": "c75942fb",
   "metadata": {},
   "outputs": [],
   "source": [
    "# Python Numeric Data Type\n",
    "# In python, numeric data type is used to hold numeric values\n",
    "# int - holds signed integers of non-limited length\n",
    "# float - holds floating decimal points and its accurate up to 15 decimal places\n",
    "# complex - hold complex numbers.\n",
    "\n"
   ]
  },
  {
   "cell_type": "code",
   "execution_count": 1,
   "id": "6e0ba7dc",
   "metadata": {},
   "outputs": [
    {
     "name": "stdout",
     "output_type": "stream",
     "text": [
      "The type of variable having value 100 is <class 'int'>\n"
     ]
    }
   ],
   "source": [
    "# create a variable with integer value\n",
    "a = 100\n",
    "\n",
    "print(\"The type of variable having value\", a, \"is\", type(a))"
   ]
  },
  {
   "cell_type": "code",
   "execution_count": 2,
   "id": "61c5297e",
   "metadata": {},
   "outputs": [
    {
     "name": "stdout",
     "output_type": "stream",
     "text": [
      "The type of variable having value 12.57467 is <class 'float'>\n"
     ]
    }
   ],
   "source": [
    "# create a variable  with float value\n",
    "\n",
    "b = 12.57467\n",
    "print(\"The type of variable having value\", b, \"is\", type(b))"
   ]
  },
  {
   "cell_type": "code",
   "execution_count": 3,
   "id": "141c934f",
   "metadata": {},
   "outputs": [
    {
     "name": "stdout",
     "output_type": "stream",
     "text": [
      "The type of variable having value (100+5j) is <class 'complex'>\n"
     ]
    }
   ],
   "source": [
    "# Create variable with complex value\n",
    "c = 100 + 5j\n",
    "print(\"The type of variable having value\", c, \"is\", type(c))"
   ]
  },
  {
   "cell_type": "code",
   "execution_count": 4,
   "id": "17a8ef4f",
   "metadata": {},
   "outputs": [
    {
     "name": "stdout",
     "output_type": "stream",
     "text": [
      "variable x is type of  <class 'float'>\n",
      "variable y is type of  <class 'float'>\n"
     ]
    }
   ],
   "source": [
    "# Float can also be scientific numbers with an \"e\" indicate the power of 10\n",
    "\n",
    "x = 25e4 # 25 * 10^4 = 250000.0\n",
    "y = -67.6e100 # -67.6 * 10^100 = -6.76e+101\n",
    "\n",
    "print(\"variable x is type of \", type(x))\n",
    "print(\"variable y is type of \", type(y))\n",
    "\n",
    "\n"
   ]
  },
  {
   "cell_type": "code",
   "execution_count": 19,
   "id": "df711a5c",
   "metadata": {},
   "outputs": [
    {
     "name": "stdout",
     "output_type": "stream",
     "text": [
      "x is type of  <class 'int'>\n",
      "a is type of <class 'float'>\n",
      "y is type of  <class 'float'>\n",
      "b is type of <class 'int'>\n",
      "x is type of  <class 'int'>\n",
      "c is type of <class 'complex'>\n",
      "z is type of  <class 'complex'>\n",
      "d is type of <class 'float'>\n"
     ]
    }
   ],
   "source": [
    "# Python Numeric Data Type Conversion\n",
    "#  You can convert from one type to another with the int(), float, and complex() methods:\n",
    "\n",
    "x = 7 # int\n",
    "\n",
    "y = 4.8 # float\n",
    "\n",
    "z = 3j # complex\n",
    "\n",
    "#convert from int to float\n",
    "a = float(x)\n",
    "print(\"x is type of \", type(x))\n",
    "print(\"a is type of\", type(a))\n",
    "\n",
    "#convert from float to int\n",
    "b = int(y)\n",
    "print(\"y is type of \", type(y))\n",
    "print(\"b is type of\", type(b))\n",
    "\n",
    "#convert from int  to complex\n",
    "c = complex(x)\n",
    "print(\"x is type of \", type(x))\n",
    "print(\"c is type of\", type(c))\n",
    "\n",
    "# convert complex to int\n",
    "d = float(z.real)  # complex to float, then to int\n",
    "print(\"z is type of \", type(z))\n",
    "print(\"d is type of\", type(d))\n",
    "     \n",
    "\n"
   ]
  },
  {
   "cell_type": "code",
   "execution_count": null,
   "id": "45feade6",
   "metadata": {},
   "outputs": [],
   "source": [
    "# Python Collections(Arrays)\n",
    "# There are four collection data types in the python programming language:\n",
    "\n",
    "# List is a collection which is ordered and changeable. allows  duplicate members.\n",
    "# Tuple is a collection which is ordered and unchangeable. allows duplicate members.\n",
    "# Set is a collection which is unordered , unchangeable and unindexed. No duplicate members.\n",
    "\n",
    "# Dictionary  is a collection which is orders and changeable,No duplicate members."
   ]
  },
  {
   "cell_type": "code",
   "execution_count": 24,
   "id": "f313078a",
   "metadata": {},
   "outputs": [
    {
     "name": "stdout",
     "output_type": "stream",
     "text": [
      "['dog', 'cat', 'lion', 'tiger']\n",
      "4\n",
      "['cat', 'lion', 'dog']\n"
     ]
    }
   ],
   "source": [
    "# Python Lists\n",
    "# Lists are used to store multiple items in a single variable.\n",
    "# List are created using square brackets:\n",
    "\n",
    "my_list = [\"dog\", \"cat\", \"lion\", \"tiger\"]\n",
    "print(my_list)\n",
    "\n",
    "# List items are indexed, the first item has index[0], \n",
    "# the second items has index[1]\n",
    "# Python List are ordered\n",
    "\n",
    "#  if you add new items to a list , the new items will be placed at the end of the list.\n",
    "# Python list are changeable, That means we can change, add and remove items in a list after has been created.\n",
    "\n",
    "# To determine how many items a list\n",
    "print(len(my_list))\n",
    "\n",
    "# List items can be of any data type.\n",
    "list1 = [\"dog\", \"lion\", \"elephant\"]\n",
    "list2 =[1, 6, 13, 11, 3]\n",
    "list3 = [True, False, False]\n",
    "\n",
    "# A list can contain different data types\n",
    "my_list = [\"xyz\", 22, True, 50, \"cat\"]\n",
    "\n",
    "# Is is also possible to use the list() constructor when create a new list:\n",
    "my_list = list((\"cat\", \"lion\", \"dog\")) #note the double round-brackets\n",
    "print(my_list)\n",
    "  \n"
   ]
  },
  {
   "cell_type": "code",
   "execution_count": 28,
   "id": "6d6d5089",
   "metadata": {},
   "outputs": [
    {
     "name": "stdout",
     "output_type": "stream",
     "text": [
      "cat\n",
      "cat\n",
      "elephant\n",
      "dog\n"
     ]
    }
   ],
   "source": [
    "# Access items\n",
    "\n",
    "# List items are indexed and you can access them by referring to the index number:\n",
    "\n",
    "my_list = [\"dog\", \"cat\", \"lion\", \"elephant\", \"cat\"]\n",
    "print(my_list[1])\n",
    "\n",
    "# Negative indexing means start form the end. -1 refers to the last item, -2 refers to the second last items etc.\n",
    "print(my_list[-1])\n",
    "print(my_list[-2])\n",
    "print(my_list[-5])\n",
    "\n",
    "\n"
   ]
  },
  {
   "cell_type": "code",
   "execution_count": null,
   "id": "c20011db",
   "metadata": {},
   "outputs": [
    {
     "name": "stdout",
     "output_type": "stream",
     "text": [
      "['lion', 'elephant', 'rat']\n",
      "['dog', 'cat', 'lion']\n",
      "['lion', 'elephant', 'rat', 'fish']\n"
     ]
    }
   ],
   "source": [
    "# Range of Indexes\n",
    "# You can specify a range of indexes by specifying where to start and where to end the range.\n",
    "\n",
    "# when specifying a range, the return value will be a new list with the specified items.\n",
    "\n",
    "my_list = [\"dog\", \"cat\", \"lion\", \"elephant\", \"rat\", \"fish\"]\n",
    "\n",
    "print(my_list[2:5])\n",
    "# Note: The search will start at index 2(included) and end at index 5(not included)\n",
    "\n",
    "# By leaving out the start value, the range will start at the first item:\n",
    "print(my_list[:3])\n",
    "\n",
    "# by leaving out the end value, the  range will go on to the end of the list\n",
    "print(my_list[2:])"
   ]
  },
  {
   "cell_type": "code",
   "execution_count": 37,
   "id": "6bdd49c4",
   "metadata": {},
   "outputs": [
    {
     "name": "stdout",
     "output_type": "stream",
     "text": [
      "[10, 5, 'John', 6.2, True]\n",
      "<class 'list'>\n",
      "John\n",
      "True\n",
      "John\n",
      "[5, 'John', 6.2]\n",
      "[10, 5, 'John']\n",
      "['John', 6.2, True]\n"
     ]
    }
   ],
   "source": [
    "# Ex 1\n",
    "my_list = [10, 5, \"John\", 6.2, True]\n",
    "\n",
    "print(my_list)\n",
    "print(type(my_list))\n",
    "\n",
    "print(my_list[2])\n",
    "\n",
    "print(my_list[-1])\n",
    "print(my_list[-3])\n",
    "\n",
    "print(my_list[1:4])\n",
    "\n",
    "print(my_list[:3])\n",
    "\n",
    "print(my_list[2:])\n",
    "\n",
    "\n",
    "\n",
    "\n"
   ]
  },
  {
   "cell_type": "code",
   "execution_count": 41,
   "id": "f974f386",
   "metadata": {},
   "outputs": [
    {
     "name": "stdout",
     "output_type": "stream",
     "text": [
      "[10, 5, 'John', 6.2, True, 5]\n",
      "[10, 5, ['Kasun'], 6.2, True, 5] <class 'list'>\n",
      "[10, 5, 'kate', 9.4, False, 5]\n"
     ]
    }
   ],
   "source": [
    "# EX 2\n",
    "my_list = [10, 5, \"John\", 6.2, True, 5]\n",
    "print(my_list)\n",
    "\n",
    "my_list[2] =[\"Kasun\"]\n",
    "print(my_list, type(my_list))\n",
    "\n",
    "my_list[2:5] = [\"kate\", 9.4, False]\n",
    "print(my_list)\n",
    "\n"
   ]
  },
  {
   "cell_type": "code",
   "execution_count": null,
   "id": "30134ba8",
   "metadata": {},
   "outputs": [
    {
     "name": "stdout",
     "output_type": "stream",
     "text": [
      "['dog', 'tiger', 'lion', 'elephant', 'rat', 'fish']\n",
      "['dog', 'zebra', 'tiger', 'elephant', 'rat', 'fish']\n",
      "['dog', 'cat', 'zebra', 'lion', 'elephant', 'rat', 'fish'] 7\n",
      "lion\n",
      "fish\n",
      "['dog', 'cat', 'lion', 'elephant', 'rat', 'fish', 'zebra'] 7\n",
      "['dog', 'cat', 'lion', 'elephant', 'rat', 'fish'] 6\n",
      "3\n",
      "['dog', 'lion'] 2\n",
      "5\n",
      "['dog', 'lion', 'rat', 'fish'] 4\n",
      "[] 0\n"
     ]
    }
   ],
   "source": [
    "# Change List Items\n",
    "\n",
    "# To Change the value of a specific item,, refer to the index number\n",
    "\n",
    "my_list = [\"dog\", \"cat\", \"lion\", \"elephant\", \"rat\", \"fish\"]\n",
    "my_list[1] = \"tiger\"\n",
    "\n",
    "print(my_list)\n",
    "\n",
    "# Change the values \"cat\" and lion\" with the values \"zebra and \"tiger\"\n",
    "my_list = [\"dog\", \"cat\", \"lion\", \"elephant\", \"rat\", \"fish\"]\n",
    "my_list[1:3] = [\"zebra\", \"tiger\"]\n",
    "print(my_list)\n",
    "\n",
    "# Insert Items\n",
    "# To insert a new list item, without replacing any of existing value, we can use the insert() method.\n",
    "# The insert() method inserts an item at the specified index:\n",
    "\n",
    "#            0,    1,     2,      3,           4,     5   \n",
    "my_list = [\"dog\", \"cat\", \"lion\", \"elephant\", \"rat\", \"fish\"]\n",
    "my_list.insert(2, \"zebra\")  \n",
    "print(my_list,len(my_list))\n",
    "\n",
    "\n",
    "print(my_list[3])\n",
    "print(my_list[-1])\n",
    "\n",
    "# Append Items\n",
    "# To add an item to the end of the list, we can use the append() method:\n",
    "my_list = [\"dog\", \"cat\", \"lion\", \"elephant\", \"rat\", \"fish\"]\n",
    "my_list.append(\"zebra\")\n",
    "\n",
    "print(my_list, len(my_list))\n",
    "\n",
    "# Extend List\n",
    "\n",
    "# To append elements from another list to the current list, use the extend() method\n",
    "\n",
    "my_list =[\"dog\", \"cat\", \"lion\"]\n",
    "\n",
    "you_list = [\"elephant\", \"rat\", \"fish\"]\n",
    "\n",
    "my_list.extend(you_list)\n",
    "print(my_list, len(my_list))\n",
    "\n",
    "# Remover specified item\n",
    "# The remove () method remover the specified item\n",
    "\n",
    "my_list =[\"dog\", \"cat\", \"lion\"]\n",
    "print(len(my_list))\n",
    "my_list.remove(\"cat\")\n",
    "print(my_list, len(my_list)) \n",
    "\n",
    "# Remove Specified index\n",
    "# The pop() method removes the specified index\n",
    "\n",
    "my_list =[\"dog\", \"cat\", \"lion\", \"rat\", \"fish\"]\n",
    "# my_list.remove(\"cat\")\n",
    "print(len(my_list)) # how many items in the list = 5\n",
    "\n",
    "my_list.pop(1)  #removes the item at index 1\n",
    "print(my_list, len(my_list))  # how many items in the list = 4\n",
    "\n",
    "\n",
    "# Clear the List\n",
    "\n",
    "# The clear() method empties the list. The List still remains but it has no content.\n",
    "my_list =[\"dog\", \"cat\", \"lion\", \"rat\", \"fish\"]\n",
    "my_list.clear()\n",
    "print(my_list, len(my_list))  # how many items in the list = 0\n",
    "\n",
    "\n",
    "\n",
    "\n",
    "\n",
    "\n",
    "\n",
    "\n"
   ]
  },
  {
   "cell_type": "code",
   "execution_count": null,
   "id": "36866f0c",
   "metadata": {},
   "outputs": [
    {
     "name": "stdout",
     "output_type": "stream",
     "text": [
      "['cat', 'dog', 'fish', 'lion', 'rat']\n",
      "[23, 50, 65, 82, 100]\n",
      "['rat', 'lion', 'fish', 'dog', 'cat']\n",
      "[109, 72, 60, 45, 14]\n",
      "['Lion', 'Rat', 'cat', 'dog', 'fish']\n",
      "['cat', 'dog', 'fish', 'Lion', 'Rat']\n"
     ]
    }
   ],
   "source": [
    "# Sort List\n",
    "\n",
    "# List objects have a sort() method that will sort the list alphanumerically, ascending, by default:\n",
    "\n",
    "my_list = [\"dog\", \"cat\", \"lion\", \"rat\", \"fish\"]\n",
    "my_list.sort()\n",
    "print(my_list)\n",
    "\n",
    "# Sort the list numerically\n",
    "\n",
    "my_list = [100, 50, 65, 82, 23]\n",
    "my_list.sort()\n",
    "print(my_list)\n",
    "\n",
    "# Sort the descending, use the keyword argument reverse = True:\n",
    "my_list = [\"dog\", \"cat\", \"lion\", \"rat\", \"fish\"]\n",
    "my_list.sort(reverse=True)\n",
    "print(my_list)\n",
    "\n",
    "num_list = [109, 60, 45, 72, 14]\n",
    "num_list.sort(reverse=True)\n",
    "print(num_list)\n",
    "\n",
    "# Case Insensitive Sort\n",
    "# By default the sort() method is case sensitive, resulting in all capital letters being sorted before lower case letters:\n",
    "\n",
    "# So if you want a case-insensitive sort function, use  str.lower as a key function:\n",
    "\n",
    "my_list = [\"dog\", \"cat\", \"Lion\", \"Rat\", \"fish\"]\n",
    "my_list.sort()\n",
    "print(my_list)\n",
    "\n",
    "my_list.sort(key=str.lower)\n",
    "print(my_list)\n",
    "\n"
   ]
  },
  {
   "cell_type": "code",
   "execution_count": null,
   "id": "d86de769",
   "metadata": {},
   "outputs": [
    {
     "name": "stdout",
     "output_type": "stream",
     "text": [
      "['fish', 'rat', 'lion', 'cat', 'dog']\n"
     ]
    }
   ],
   "source": [
    "# Reverse List\n",
    "# The reverse() method reverses the sorting order of the elements.\n",
    "my_list = [\"dog\", \"cat\", \"lion\", \"rat\", \"fish\"]\n",
    "my_list.reverse()\n",
    "print(my_list)\n"
   ]
  },
  {
   "cell_type": "code",
   "execution_count": 67,
   "id": "ffd170e6",
   "metadata": {},
   "outputs": [
    {
     "name": "stdout",
     "output_type": "stream",
     "text": [
      "['dog', 'cat', 'lion', 'rat', 'fish']\n",
      "['dog', 'cat', 'lion', 'rat', 'fish']\n"
     ]
    }
   ],
   "source": [
    "# Copy a List\n",
    "# You can not copy a list simply by typing list2 = list1, because :list2 will only be a reference to list1, and change made in list1 will automatically also be made in list2.\n",
    "\n",
    "# There are ways to make a copy,  one way is to us the built-in List method copy():\n",
    "\n",
    "# Copy()\n",
    "my_list = [\"dog\", \"cat\", \"lion\", \"rat\", \"fish\"]\n",
    "new_list = my_list.copy()\n",
    "print(new_list)\n",
    "\n",
    "# list()\n",
    "# Another way to make a copy is to use the built-in method list():\n",
    "my_list = [\"dog\", \"cat\", \"lion\", \"rat\", \"fish\"]\n",
    "new_list = list(my_list)\n",
    "print(new_list)"
   ]
  },
  {
   "cell_type": "code",
   "execution_count": null,
   "id": "41b61973",
   "metadata": {},
   "outputs": [
    {
     "name": "stdout",
     "output_type": "stream",
     "text": [
      "['a', 'b', 'c', 1, 2, 3]\n",
      "['a', 'b', 'c', 1, 2, 3]\n"
     ]
    }
   ],
   "source": [
    "# Jon Two List\n",
    "\n",
    "# There are Several ways to join, or concatenate, two or more list in python\n",
    "# One of easiest way is to use the + operator.\n",
    "\n",
    "list1 =[\"a\", \"b\", \"c\"]  \n",
    "list2 = [1, 2, 3]\n",
    "\n",
    "list3 = list1 + list2\n",
    "\n",
    "print(list3)\n",
    "\n",
    "# Or you can use the extend() method, which purpose is to add elements form  one list to another list:\n",
    "list1 = [\"a\", \"b\", \"c\"]  \n",
    "list2 = [1, 2, 3]\n",
    "\n",
    "list1.extend(list2)\n",
    "print(list1) \n",
    "\n",
    "\n"
   ]
  }
 ],
 "metadata": {
  "kernelspec": {
   "display_name": "Python 3",
   "language": "python",
   "name": "python3"
  },
  "language_info": {
   "codemirror_mode": {
    "name": "ipython",
    "version": 3
   },
   "file_extension": ".py",
   "mimetype": "text/x-python",
   "name": "python",
   "nbconvert_exporter": "python",
   "pygments_lexer": "ipython3",
   "version": "3.13.4"
  }
 },
 "nbformat": 4,
 "nbformat_minor": 5
}
