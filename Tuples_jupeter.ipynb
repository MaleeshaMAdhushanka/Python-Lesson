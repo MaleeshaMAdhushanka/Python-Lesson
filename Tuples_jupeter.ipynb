{
 "cells": [
  {
   "cell_type": "code",
   "execution_count": 5,
   "id": "d1036386",
   "metadata": {},
   "outputs": [
    {
     "name": "stdout",
     "output_type": "stream",
     "text": [
      "('tenis', 'cricket', 'football')\n",
      "<class 'tuple'>\n",
      "cricket\n",
      "3\n"
     ]
    }
   ],
   "source": [
    "sports = (\"tenis\", \"cricket\", \"football\")\n",
    "\n",
    "\n",
    "print(sports)\n",
    "print(type(sports))\n",
    "print(sports[1])\n",
    "print(len(sports))"
   ]
  },
  {
   "cell_type": "code",
   "execution_count": 10,
   "id": "f58c1bfa",
   "metadata": {},
   "outputs": [
    {
     "name": "stdout",
     "output_type": "stream",
     "text": [
      "('pizza',)\n",
      "<class 'tuple'>\n",
      "1\n"
     ]
    }
   ],
   "source": [
    "foods = (\"pizza\",)\n",
    "\n",
    "print(foods)\n",
    "print(type(foods))\n",
    "print(len(foods))"
   ]
  },
  {
   "cell_type": "code",
   "execution_count": 11,
   "id": "c2606820",
   "metadata": {},
   "outputs": [
    {
     "name": "stdout",
     "output_type": "stream",
     "text": [
      "('tennins', 30, True, 'cricket', 'football')\n",
      "<class 'tuple'>\n",
      "(True, 'cricket', 'football')\n",
      "('tennins', 30, True, 'cricket')\n",
      "(True, 'cricket', 'football')\n"
     ]
    }
   ],
   "source": [
    "my_tuple = (\"tennins\", 30, True, \"cricket\",\"football\")\n",
    "\n",
    "print(my_tuple)\n",
    "print(type(my_tuple))\n",
    "\n",
    "print(my_tuple[2:5])\n",
    "\n",
    "print(my_tuple[:4])\n",
    "\n",
    "print(my_tuple[2:])"
   ]
  },
  {
   "cell_type": "code",
   "execution_count": 13,
   "id": "00d1f2b6",
   "metadata": {},
   "outputs": [
    {
     "name": "stdout",
     "output_type": "stream",
     "text": [
      "['apple', 'banana', 'orange'] <class 'list'>\n"
     ]
    }
   ],
   "source": [
    "fruits = (\"apple\", \"banana\", \"orange\")\n",
    " \n",
    "x = list(fruits)\n",
    "\n",
    "print(x, type(x))\n",
    " "
   ]
  },
  {
   "cell_type": "code",
   "execution_count": 17,
   "id": "6a51f4fc",
   "metadata": {},
   "outputs": [
    {
     "name": "stdout",
     "output_type": "stream",
     "text": [
      "['apple', 'Grapse', 'orange']\n",
      "('apple', 'Grapse', 'orange') <class 'tuple'>\n"
     ]
    }
   ],
   "source": [
    "x[1] =\"Grapse\"\n",
    "\n",
    "print(x)\n",
    "\n",
    "fruits = tuple(x)\n",
    "print(fruits, type(fruits))"
   ]
  },
  {
   "cell_type": "code",
   "execution_count": null,
   "id": "2f882a5a",
   "metadata": {},
   "outputs": [],
   "source": [
    "nested_tuple = ((1, 2,3), (\"a\", \"b\", \"c\"), (True, False))\n",
    "print(nested_tuple)\n",
    "\n",
    "print(nested_tuple[1][1])  # Accessing 'c' from the second tuple\n",
    "print(nested_tuple[2][0])\n"
   ]
  },
  {
   "cell_type": "code",
   "execution_count": null,
   "id": "fb4ca0a0",
   "metadata": {},
   "outputs": [
    {
     "name": "stdout",
     "output_type": "stream",
     "text": [
      "{40, 50, 25, 60, 30} <class 'set'>\n",
      "[25, 30, 40, 50, 60]\n",
      "<class 'list'>\n"
     ]
    }
   ],
   "source": [
    "list_1 = [50, 60, 30, 40, 50, 25, 60, 30, 40]\n",
    "\n",
    "set_1 = set(list_1)\n",
    "\n",
    "\n",
    "# removing\n",
    "print(set_1, type(set_1)) \n",
    "\n",
    "\n",
    "list_1 = list(set_1)\n",
    "\n",
    "list_1.sort()\n",
    "\n",
    "print(list_1)\n",
    "print(type(list_1))\n",
    "\n",
    "\n",
    "\n",
    "\n",
    "\n"
   ]
  },
  {
   "cell_type": "code",
   "execution_count": 57,
   "id": "b8a01b14",
   "metadata": {},
   "outputs": [
    {
     "name": "stdout",
     "output_type": "stream",
     "text": [
      "11\n"
     ]
    }
   ],
   "source": [
    "print(z[2])"
   ]
  },
  {
   "cell_type": "code",
   "execution_count": 58,
   "id": "4c5311b6",
   "metadata": {},
   "outputs": [
    {
     "name": "stdout",
     "output_type": "stream",
     "text": [
      "23\n"
     ]
    }
   ],
   "source": [
    "print(z[5])"
   ]
  },
  {
   "cell_type": "code",
   "execution_count": 59,
   "id": "2aa43cb2",
   "metadata": {},
   "outputs": [
    {
     "ename": "IndexError",
     "evalue": "range object index out of range",
     "output_type": "error",
     "traceback": [
      "\u001b[31m---------------------------------------------------------------------------\u001b[39m",
      "\u001b[31mIndexError\u001b[39m                                Traceback (most recent call last)",
      "\u001b[36mCell\u001b[39m\u001b[36m \u001b[39m\u001b[32mIn[59]\u001b[39m\u001b[32m, line 1\u001b[39m\n\u001b[32m----> \u001b[39m\u001b[32m1\u001b[39m \u001b[38;5;28mprint\u001b[39m(\u001b[43mz\u001b[49m\u001b[43m[\u001b[49m\u001b[32;43m6\u001b[39;49m\u001b[43m]\u001b[49m)\n",
      "\u001b[31mIndexError\u001b[39m: range object index out of range"
     ]
    }
   ],
   "source": [
    "print(z[6])"
   ]
  },
  {
   "cell_type": "code",
   "execution_count": null,
   "id": "777dc45c",
   "metadata": {},
   "outputs": [
    {
     "name": "stdout",
     "output_type": "stream",
     "text": [
      "{'name': 'Sugar', 'weight': '1kg', 'price': 100.35}\n",
      "<class 'dict'>\n",
      "1kg\n",
      "100.35\n",
      "3\n",
      "{'name': 'Sugar', 'weight': '1kg', 'price': 140.5}\n",
      "{'name': 'Sugar', 'weight': '1kg', 'price': 140.5, 'color': 'brown'}\n",
      "{'name': 'Sugar', 'weight': '1kg', 'price': 120.75, 'color': 'brown', 'expire_date': 'Jan 2025'}\n",
      "{'name': 'Sugar', 'weight': '1kg', 'color': 'brown', 'expire_date': 'Jan 2025'}\n"
     ]
    }
   ],
   "source": [
    "this_dict  = {\n",
    "    \"name\" : \"Sugar\",\n",
    "    \"weight\" : \"1kg\",\n",
    "    \"price\": 100.35\n",
    "}\n",
    "\n",
    "print(this_dict)\n",
    "print(type(this_dict))\n",
    "\n",
    "print(this_dict[\"weight\"])\n",
    "print(this_dict.get(\"price\"))\n",
    "print(len(this_dict))\n",
    "\n",
    "# update the price\n",
    "\n",
    "this_dict[\"price\"] = 140.50\n",
    "\n",
    "print(this_dict)\n",
    "\n",
    "# add a new item as color \n",
    "\n",
    "this_dict[\"color\"] = \"brown\"\n",
    "\n",
    "print(this_dict)\n",
    "\n",
    "# new one item or 2 \n",
    "this_dict.update({\"expire_date\": \"Jan 2025\", \"price\": 120.75})\n",
    "\n",
    "print(this_dict)\n",
    "\n",
    "# remove the price\n",
    "this_dict.pop(\"price\")\n",
    "\n",
    "print(this_dict)\n",
    "\n"
   ]
  },
  {
   "cell_type": "code",
   "execution_count": 79,
   "id": "c7e4ed12",
   "metadata": {},
   "outputs": [
    {
     "name": "stdout",
     "output_type": "stream",
     "text": [
      "{'name': 'Sugar', 'weight': '1kg', 'price': 100.35}\n",
      "{'name': 'Sugar', 'weight': '1kg', 'price': 100.35}\n",
      "{'name': 'Sugar', 'weight': '1kg', 'price': 200.0}\n",
      "{'name': 'Sugar', 'weight': '1kg', 'price': 100.35}\n"
     ]
    }
   ],
   "source": [
    "this_dict  = {\n",
    "    \"name\" : \"Sugar\",\n",
    "    \"weight\" : \"1kg\",\n",
    "    \"price\": 100.35\n",
    "}\n",
    "\n",
    "# this_dict.popitem()  # removes the last inserted item\n",
    "\n",
    "print(this_dict)\n",
    "\n",
    "# del this_dict[\"weight\"]  # removes the weight item\n",
    "\n",
    "# print(this_dict)\n",
    "\n",
    "# del this_dict  # deletes the entire dictionary\n",
    "# print(this_dict)\n",
    "\n",
    "# this_dict.clear()  # clears the dictionary but keeps it\n",
    "\n",
    "# print(this_dict)\n",
    "\n",
    "# Copying a dictionary\n",
    "this_dict_copy = this_dict.copy()\n",
    "print(this_dict_copy)\n",
    "\n",
    "# Change the origanl dictionary\n",
    "this_dict[\"price\"] = 200.00\n",
    "\n",
    "print(this_dict)\n",
    "\n",
    "print(this_dict_copy)"
   ]
  },
  {
   "cell_type": "code",
   "execution_count": 85,
   "id": "b562c267",
   "metadata": {},
   "outputs": [
    {
     "name": "stdout",
     "output_type": "stream",
     "text": [
      "2.3333333333333335\n"
     ]
    }
   ],
   "source": [
    "x,y = 7,3\n",
    "\n",
    "print(x / y) "
   ]
  },
  {
   "cell_type": "code",
   "execution_count": 84,
   "id": "9a327cf1",
   "metadata": {},
   "outputs": [
    {
     "name": "stdout",
     "output_type": "stream",
     "text": [
      "2\n"
     ]
    }
   ],
   "source": [
    "x,y = 7,3\n",
    "\n",
    "print(x // y)  # Floor division\n"
   ]
  },
  {
   "cell_type": "code",
   "execution_count": null,
   "id": "7080de78",
   "metadata": {},
   "outputs": [
    {
     "name": "stdout",
     "output_type": "stream",
     "text": [
      "1\n"
     ]
    }
   ],
   "source": [
    "x,y = 7,3\n",
    "\n",
    "print(x % y) #Remainder"
   ]
  },
  {
   "cell_type": "code",
   "execution_count": 86,
   "id": "4f0eb1a1",
   "metadata": {},
   "outputs": [
    {
     "name": "stdout",
     "output_type": "stream",
     "text": [
      "False\n"
     ]
    }
   ],
   "source": [
    "a, b = 4, 5\n",
    "print(a == b)"
   ]
  },
  {
   "cell_type": "code",
   "execution_count": 87,
   "id": "cc787090",
   "metadata": {},
   "outputs": [
    {
     "name": "stdout",
     "output_type": "stream",
     "text": [
      "True\n"
     ]
    }
   ],
   "source": [
    "a,b = 4, 4\n",
    "print(a == b)"
   ]
  },
  {
   "cell_type": "code",
   "execution_count": null,
   "id": "34a622aa",
   "metadata": {},
   "outputs": [],
   "source": []
  },
  {
   "cell_type": "code",
   "execution_count": 88,
   "id": "ff0d60d2",
   "metadata": {},
   "outputs": [
    {
     "name": "stdout",
     "output_type": "stream",
     "text": [
      "True\n"
     ]
    }
   ],
   "source": [
    "a, b = 4, 5\n",
    "print(a != b)"
   ]
  },
  {
   "cell_type": "code",
   "execution_count": 91,
   "id": "b83bc440",
   "metadata": {},
   "outputs": [
    {
     "name": "stdout",
     "output_type": "stream",
     "text": [
      "True\n",
      "False\n"
     ]
    }
   ],
   "source": [
    "x,y, z = 10, 5, 20\n",
    "\n",
    "print(x > 5 or y < 10 and z > 20)\n",
    "print((x > 5 or y < 10) and z > 20)\n"
   ]
  },
  {
   "cell_type": "code",
   "execution_count": 92,
   "id": "c85d7685",
   "metadata": {},
   "outputs": [
    {
     "name": "stdout",
     "output_type": "stream",
     "text": [
      "False\n"
     ]
    }
   ],
   "source": [
    "x,y = 5, 6\n",
    "\n",
    "print(x is y)  # Checks if x and y are the same object"
   ]
  },
  {
   "cell_type": "code",
   "execution_count": 93,
   "id": "11a80f3c",
   "metadata": {},
   "outputs": [
    {
     "name": "stdout",
     "output_type": "stream",
     "text": [
      "True\n"
     ]
    }
   ],
   "source": [
    "x,y = 5, 5\n",
    "\n",
    "print(x is y)  # Checks if x and y are the same object"
   ]
  },
  {
   "cell_type": "markdown",
   "id": "2bc0f059",
   "metadata": {},
   "source": []
  },
  {
   "cell_type": "code",
   "execution_count": 94,
   "id": "adb7433b",
   "metadata": {},
   "outputs": [
    {
     "name": "stdout",
     "output_type": "stream",
     "text": [
      "True\n"
     ]
    }
   ],
   "source": [
    "x = 5\n",
    "\n",
    "y = x\n",
    "print(x is y)  # Checks if x and y are the same object"
   ]
  },
  {
   "cell_type": "code",
   "execution_count": 95,
   "id": "445482db",
   "metadata": {},
   "outputs": [
    {
     "name": "stdout",
     "output_type": "stream",
     "text": [
      "True\n",
      "False\n"
     ]
    }
   ],
   "source": [
    "nums = [10, 8, 4, 3, 2]\n",
    "\n",
    "print (8 in nums)\n",
    "\n",
    "print (5 in nums)"
   ]
  },
  {
   "cell_type": "code",
   "execution_count": 97,
   "id": "6d1c47b4",
   "metadata": {},
   "outputs": [
    {
     "name": "stdout",
     "output_type": "stream",
     "text": [
      "0\n"
     ]
    }
   ],
   "source": [
    "x , y = 5, 10\n",
    "z = x & y\n",
    "\n",
    "print(z)"
   ]
  },
  {
   "cell_type": "code",
   "execution_count": 102,
   "id": "d4e51e96",
   "metadata": {},
   "outputs": [
    {
     "name": "stdout",
     "output_type": "stream",
     "text": [
      "n is odd\n"
     ]
    }
   ],
   "source": [
    "# Flow condition\n",
    "n = 13\n",
    "if n % 2 == 0:\n",
    "    print(\"n is even\")\n",
    "else:\n",
    "    print(\"n is odd\")"
   ]
  },
  {
   "cell_type": "code",
   "execution_count": null,
   "id": "4d222cd5",
   "metadata": {},
   "outputs": [],
   "source": []
  },
  {
   "cell_type": "code",
   "execution_count": 105,
   "id": "ebb518fe",
   "metadata": {},
   "outputs": [
    {
     "name": "stdout",
     "output_type": "stream",
     "text": [
      "z is not empty\n"
     ]
    }
   ],
   "source": [
    "z = [10, 20, 30, 40, 50]\n",
    "if len(z) == 0:\n",
    "    print(\"z is empty\")\n",
    "else:\n",
    "    print(\"z is not empty\")\n"
   ]
  },
  {
   "cell_type": "code",
   "execution_count": 109,
   "id": "4b09c930",
   "metadata": {},
   "outputs": [
    {
     "name": "stdout",
     "output_type": "stream",
     "text": [
      "list_1 is not empty\n"
     ]
    }
   ],
   "source": [
    "list_1 = [1, 5]\n",
    "\n",
    "if list_1:\n",
    "    print(\"list_1 is not empty\")\n",
    "else:\n",
    "    print(\"list_1 is empty\")"
   ]
  },
  {
   "cell_type": "code",
   "execution_count": 111,
   "id": "58ef1964",
   "metadata": {},
   "outputs": [
    {
     "name": "stdout",
     "output_type": "stream",
     "text": [
      "r should bes positive\n"
     ]
    }
   ],
   "source": [
    "# calculate the are if a circle\n",
    "\n",
    "# pi = 3.14\n",
    "\n",
    "r = 0\n",
    "\n",
    "if r <= 0:\n",
    "    print(\"r should bes positive\")\n",
    "else:\n",
    "    z = 2 * 3.14 * r\n",
    "    print(z)\n",
    "\n",
    "\n",
    "\n",
    "\n"
   ]
  },
  {
   "cell_type": "code",
   "execution_count": 112,
   "id": "a48e9b37",
   "metadata": {},
   "outputs": [
    {
     "name": "stdout",
     "output_type": "stream",
     "text": [
      "Cirumference of the circle is: 43.96\n"
     ]
    }
   ],
   "source": [
    "PI_VALUE = 3.14\n",
    "radius = 7\n",
    "if radius <= 0:\n",
    "    print(\"Radius should be a positive Value.\")\n",
    "else:\n",
    "    circumference = 2 * PI_VALUE * radius\n",
    "    print(\"Cirumference of the circle is:\", circumference)    "
   ]
  },
  {
   "cell_type": "code",
   "execution_count": 113,
   "id": "997eb742",
   "metadata": {},
   "outputs": [
    {
     "name": "stdout",
     "output_type": "stream",
     "text": [
      "Hypotenuse of the triangle is: 13.0\n"
     ]
    }
   ],
   "source": [
    "side_1 = 5\n",
    "side_2 = 12\n",
    "\n",
    "if side_1 <= 0 or side_2 <= 0:\n",
    "    print(\"Both sides should be positive values.\")\n",
    "else:\n",
    "    hypotenuse = (side_1 ** 2 + side_2 ** 2) ** 0.5\n",
    "    print(\"Hypotenuse of the triangle is:\", hypotenuse)    "
   ]
  },
  {
   "cell_type": "code",
   "execution_count": 5,
   "id": "d7841fda",
   "metadata": {},
   "outputs": [
    {
     "name": "stdout",
     "output_type": "stream",
     "text": [
      "c is largest than is: 30\n"
     ]
    }
   ],
   "source": [
    "a = 10\n",
    "b = 20\n",
    "c = 30\n",
    "\n",
    "if a >= b and a >= c:\n",
    "    print(\"a is largest than is:\", a)\n",
    "elif b >= a and b >= c:\n",
    "    print(\"b is largest than is:\", b)\n",
    "else:\n",
    "    print(\"c is largest than is:\", c)\n"
   ]
  },
  {
   "cell_type": "code",
   "execution_count": 7,
   "id": "34cc8963",
   "metadata": {},
   "outputs": [
    {
     "name": "stdout",
     "output_type": "stream",
     "text": [
      "Largest: 30\n",
      "Middle: 20\n",
      "smallest: 10\n"
     ]
    }
   ],
   "source": [
    "num_1 = 10\n",
    "num_2 = 20\n",
    "num_3 = 30\n",
    "\n",
    "if num_1 >= num_2 and num_1 >= num_3:\n",
    "    largest = num_1\n",
    "    if num_2 >= num_3:\n",
    "        middle = num_2\n",
    "        smallest = num_3\n",
    "    else:\n",
    "        middle = num_3\n",
    "        smallest = num_2\n",
    "elif num_2 >= num_1 and num_2 >= num_3:\n",
    "    largest = num_2\n",
    "    if num_1 >= num_3:\n",
    "        middle = num_1\n",
    "        smallest = num_3\n",
    "    else:\n",
    "        middle = num_3\n",
    "        smallest = num_1\n",
    "else:\n",
    "    largest = num_3\n",
    "\n",
    "    if num_1 >= num_2:\n",
    "        middle = num_1\n",
    "        smallest = num_2\n",
    "    else:\n",
    "        middle = num_2\n",
    "        smallest = num_1\n",
    "\n",
    "    print(\"Largest:\", largest)\n",
    "    print(\"Middle:\", middle)\n",
    "    print(\"smallest:\", smallest)\n",
    "\n",
    " \n",
    "\n",
    "\n",
    "\n",
    "\n"
   ]
  },
  {
   "cell_type": "code",
   "execution_count": 8,
   "id": "3fa8c98d",
   "metadata": {},
   "outputs": [
    {
     "name": "stdout",
     "output_type": "stream",
     "text": [
      "Decending order: 30 20 10\n"
     ]
    }
   ],
   "source": [
    "# nested if\n",
    "num_1 = 10\n",
    "num_2 = 20\n",
    "num_3 = 30\n",
    "\n",
    "if num_1  > num_2 and num_1  > num_3:\n",
    "    if num_2 > num_3:\n",
    "        print(\"Decending order:\", num_1, num_2, num_3)\n",
    "    else:\n",
    "        print(\"Decending order:\", num_1, num_3, num_2)\n",
    "elif num_2 > num_1 and num_2 > num_3:\n",
    "    if num_1 > num_3:\n",
    "        print(\"Decending order:\", num_2, num_1, num_3)\n",
    "    else:\n",
    "        print(\"Decending order:\", num_2, num_3, num_1)\n",
    "else:\n",
    "    if num_1 > num_2:\n",
    "        print(\"Decending order:\", num_3, num_1, num_2)\n",
    "    else:\n",
    "        print(\"Decending order:\", num_3, num_2, num_1)                \n"
   ]
  },
  {
   "cell_type": "code",
   "execution_count": 13,
   "id": "14e1936c",
   "metadata": {},
   "outputs": [
    {
     "name": "stdout",
     "output_type": "stream",
     "text": [
      "Even\n"
     ]
    }
   ],
   "source": [
    "x = 12\n",
    "\n",
    "result = \"Even\"  if x % 2  == 0 else \"Odd\"\n",
    "\n",
    "print(result)"
   ]
  },
  {
   "cell_type": "code",
   "execution_count": 15,
   "id": "bbf3a921",
   "metadata": {},
   "outputs": [
    {
     "name": "stdout",
     "output_type": "stream",
     "text": [
      "Absolute Value is 15\n"
     ]
    }
   ],
   "source": [
    "# given  any integer n print the absoulte value using a ternary operator (without using) abs()\n",
    "\n",
    "n = -15\n",
    "absolute_value = n if n >= 0 else -n\n",
    "print(\"Absolute Value is\", absolute_value)\n",
    "\n",
    "\n",
    "\n",
    "\n",
    "\n"
   ]
  },
  {
   "cell_type": "code",
   "execution_count": 18,
   "id": "f1c9bdd3",
   "metadata": {},
   "outputs": [
    {
     "name": "stdout",
     "output_type": "stream",
     "text": [
      "Variable is 10\n"
     ]
    }
   ],
   "source": [
    "# Structural Pattern matching\n",
    "\n",
    "variable  = 10\n",
    "\n",
    "match variable:\n",
    "    case 10:\n",
    "        print(\"Variable is 10\")\n",
    "    case 11:\n",
    "        print(\"Variable is 11\") \n",
    "    case _:\n",
    "        print(\"variable is neither 10 or 11\")      "
   ]
  },
  {
   "cell_type": "code",
   "execution_count": 20,
   "id": "ad273f9a",
   "metadata": {},
   "outputs": [
    {
     "name": "stdout",
     "output_type": "stream",
     "text": [
      "Tuesday\n"
     ]
    }
   ],
   "source": [
    "# write a python programee  that takes and interger input  from the user represent a week day number 1 to 7 and print the corresponding weekday name\n",
    "# using match case statement\n",
    "\n",
    "weekday_number = int (input(\"Enter a number\"))\n",
    "\n",
    "match weekday_number:\n",
    "    case 1:\n",
    "        print(\"Monday\")\n",
    "    case 2:\n",
    "        print(\"Tuesday\")\n",
    "    case 3:\n",
    "        print(\"wensday\")\n",
    "    case 4:\n",
    "        print(\"thursday\") \n",
    "    case 5:\n",
    "        print(\"Friday\") \n",
    "    case 6:\n",
    "        print(\"Saturday\")\n",
    "    case 7:\n",
    "        print(\"Sunday\")\n",
    "    case _:\n",
    "      print(\"Invalid input\")\n",
    "\n",
    "\n",
    "\n",
    "\n"
   ]
  },
  {
   "cell_type": "code",
   "execution_count": 25,
   "id": "3f01c196",
   "metadata": {},
   "outputs": [
    {
     "name": "stdout",
     "output_type": "stream",
     "text": [
      "Go\n"
     ]
    }
   ],
   "source": [
    "# Write a python programme that days an input string representing a traffic light color \n",
    "# red, yellow, green, or blinking\n",
    "# use Structural Pattern matching to print following\n",
    "#  print store if color is red or blinking\n",
    "# print slow down if color is yellow\n",
    "# print go is color is green \n",
    "# print invalid color for any other input\n",
    "\n",
    "# Traffic light programme\n",
    "\n",
    "light_color = str.lower( input(\"Enter traffic light color (red, yellow, green, or blinking): \"))\n",
    "\n",
    "match light_color:\n",
    "    case \"red\" | \"blinking\": \n",
    "        print(\"Stop\")\n",
    "    case \"yellow\":\n",
    "        print(\"Slow down\")\n",
    "    case \"green\":\n",
    "        print(\"Go\")\n",
    "    case _: \n",
    "        print(\"Invalid color\")\n",
    "\n",
    "  \n"
   ]
  },
  {
   "cell_type": "code",
   "execution_count": 26,
   "id": "397269dd",
   "metadata": {},
   "outputs": [
    {
     "name": "stdout",
     "output_type": "stream",
     "text": [
      "14\n"
     ]
    }
   ],
   "source": [
    "numbers  = [4, 3, 7]\n",
    "\n",
    "match numbers:\n",
    "    case[x, y]:\n",
    "        print(x * y)\n",
    "    case[x, y, z]:\n",
    "        print(x + y + z)\n",
    "    case _:\n",
    "        print(\"List must be contain 2 or 3 elements\")    "
   ]
  },
  {
   "cell_type": "code",
   "execution_count": 28,
   "id": "e50319b0",
   "metadata": {},
   "outputs": [
    {
     "name": "stdout",
     "output_type": "stream",
     "text": [
      "Average temputure for the firt two days 3.5\n"
     ]
    }
   ],
   "source": [
    "#  Write a python programme that reads a list of tempture readins:\n",
    "# if the list as the extractly two element, print there average\n",
    "# if the list as a four element , calculate and print the different between the some of the first readings and the some of the last two readings\n",
    "# four any other list length , print\"un supported number of readings\"\n",
    "temperature_examples = [30, 30]\n",
    "\n",
    "match temperature_examples:\n",
    "    case (a, b):\n",
    "        print(\"Average temputure for the firt two days\",(x + y) /2 ) \n",
    "    case(w, a, b, z):\n",
    "        print(\" different between the some of the first readings \", (w + a) - (b + z))\n",
    "    case _:\n",
    "        print(\"un supported number of readings\")    \n",
    "\n",
    "\n",
    "\n",
    "\n"
   ]
  },
  {
   "cell_type": "code",
   "execution_count": 29,
   "id": "71c5acfc",
   "metadata": {},
   "outputs": [
    {
     "name": "stdout",
     "output_type": "stream",
     "text": [
      "12\n",
      "8\n",
      "18\n"
     ]
    }
   ],
   "source": [
    "\n",
    "my_list = [12, 5, 8, 9, 18]\n",
    "\n",
    "for item in my_list:\n",
    "    if item % 2 == 0:\n",
    "       print(item)     "
   ]
  },
  {
   "cell_type": "code",
   "execution_count": 32,
   "id": "0852cf78",
   "metadata": {},
   "outputs": [
    {
     "name": "stdout",
     "output_type": "stream",
     "text": [
      "Squares of first 10 integers:\n",
      "\n",
      "Using for loop:\n",
      "1² = 1\n",
      "2² = 4\n",
      "3² = 9\n",
      "4² = 16\n",
      "5² = 25\n",
      "6² = 36\n",
      "7² = 49\n",
      "8² = 64\n",
      "9² = 81\n",
      "10² = 100\n"
     ]
    }
   ],
   "source": [
    "# write a python programe to display squere values of firstence intergers\n",
    "\n",
    "# Define the number of integers to square\n",
    "n = 10\n",
    "\n",
    "print(f\"Squares of first {n} integers:\")\n",
    "\n",
    "print(\"\\nUsing for loop:\")\n",
    "for i in range(1, n+1):\n",
    "    square = i ** 2\n",
    "    print(f\"{i}² = {square}\")\n",
    "    \n",
    "\n",
    "\n",
    "\n",
    "\n",
    "\n",
    "\n"
   ]
  },
  {
   "cell_type": "code",
   "execution_count": 35,
   "id": "871ba431",
   "metadata": {},
   "outputs": [
    {
     "name": "stdout",
     "output_type": "stream",
     "text": [
      "1 squere is 1\n",
      "2 squere is 4\n",
      "3 squere is 9\n",
      "4 squere is 16\n",
      "5 squere is 25\n",
      "6 squere is 36\n",
      "7 squere is 49\n",
      "8 squere is 64\n",
      "9 squere is 81\n",
      "10 squere is 100\n"
     ]
    }
   ],
   "source": [
    "for i in range(1, 11):\n",
    "    print(i, \"squere is\",i**2)"
   ]
  },
  {
   "cell_type": "code",
   "execution_count": 38,
   "id": "7fec7f0d",
   "metadata": {},
   "outputs": [
    {
     "name": "stdout",
     "output_type": "stream",
     "text": [
      "squre numbers below  6\n",
      "1\n",
      "4\n"
     ]
    }
   ],
   "source": [
    "# get a positive integer as a user input. then display  all squre numbers which are below than the input number\n",
    "\n",
    "\n",
    "num = int((input(\"Enter a positive number: \")))\n",
    "\n",
    "if num <= 0:\n",
    "    print(\"pleace entering the positive number\")\n",
    "else:\n",
    "    print(\"squre numbers below \", num)\n",
    "\n",
    "    for i in range(1, num): \n",
    "        square = i ** 2\n",
    "        if square < num:\n",
    "            print(square)\n",
    "\n"
   ]
  },
  {
   "cell_type": "code",
   "execution_count": 39,
   "id": "027e5ab6",
   "metadata": {},
   "outputs": [
    {
     "name": "stdout",
     "output_type": "stream",
     "text": [
      "1\n",
      "4\n"
     ]
    }
   ],
   "source": [
    "n = int(input(\"Enter a number\"))\n",
    "\n",
    "if n <= 0:\n",
    "    print(\"Enter a positive number\")\n",
    "else:\n",
    "    for i in range(1, n):\n",
    "        square_value = i**2\n",
    "        if square_value < n:\n",
    "            print(square_value)\n",
    "        else:\n",
    "            break "
   ]
  },
  {
   "cell_type": "code",
   "execution_count": null,
   "id": "0d530675",
   "metadata": {},
   "outputs": [],
   "source": [
    "# Python code to demonstrate the linear search algorithm\n",
    "\n",
    "def linear_search(arr, target):\n",
    "    \"\"\"\n",
    "    Function to perform linear search\n",
    "    \n",
    "    Parameters:\n",
    "    arr (list): The list to search through\n",
    "    target: The element to search for\n",
    "    \n",
    "    Returns:\n",
    "    int: The index of the target element if found, -1 otherwise\n",
    "    \"\"\"\n",
    "    # Loop through each element in the array\n",
    "    for i in range(len(arr)):\n",
    "        # If element matches the target, return its index\n",
    "        if arr[i] == target:\n",
    "            return i\n",
    "    \n",
    "    # If target element is not found, return -1\n",
    "    return -1\n",
    "\n",
    "# Example usage\n",
    "my_list = [12, 45, 7, 23, 56, 89, 34, 2, 19]\n",
    "print(f\"List: {my_list}\")\n",
    "\n",
    "# Search for element 23\n",
    "to_find = 23\n",
    "result = linear_search(my_list, to_find)\n",
    "\n",
    "# Display the result\n",
    "if result != -1:\n",
    "    print(f\"Element {to_find} found at index {result}\")\n",
    "else:\n",
    "    print(f\"Element {to_find} not found in the list\")\n",
    "\n",
    "# Search for element 100 (not in the list)\n",
    "to_find = 100\n",
    "result = linear_search(my_list, to_find)\n",
    "\n",
    "# Display the result\n",
    "if result != -1:\n",
    "    print(f\"Element {to_find} found at index {result}\")\n",
    "else:\n",
    "    print(f\"Element {to_find} not found in the list\")\n",
    "\n",
    "# Let user try a search\n",
    "try:\n",
    "    user_target = int(input(\"Enter a number to search for: \"))\n",
    "    result = linear_search(my_list, user_target)\n",
    "    \n",
    "    if result != -1:\n",
    "        print(f\"Element {user_target} found at index {result}\")\n",
    "    else:\n",
    "        print(f\"Element {user_target} not found in the list\")\n",
    "except ValueError:\n",
    "    print(\"Please enter a valid number\")\n",
    "\n",
    "\n"
   ]
  },
  {
   "cell_type": "code",
   "execution_count": 49,
   "id": "299d2e2e",
   "metadata": {},
   "outputs": [
    {
     "name": "stdout",
     "output_type": "stream",
     "text": [
      "Traget Found\n",
      "Target found\n"
     ]
    }
   ],
   "source": [
    "my_list = [10, 8, 20, 9, 11, 13, 18]\n",
    "\n",
    "\n",
    "# target_value = 5\n",
    "\n",
    "# for i in my_list:\n",
    "#         if i == target_value:\n",
    "#          print(\"Found at index\", my_list.index(i))\n",
    "#         else:\n",
    "#            print(\"Not Found index\")\n",
    "\n",
    "traget = 9\n",
    "found = False\n",
    "\n",
    "for i in my_list:\n",
    "  if i == traget:\n",
    "    found = True\n",
    "    print(\"Traget Found\")\n",
    "    break\n",
    "if not found:\n",
    "  print(\"Target not found\")  \n",
    "# else:\n",
    "#    print(\"Target found\")\n"
   ]
  },
  {
   "cell_type": "code",
   "execution_count": 53,
   "id": "73de87a1",
   "metadata": {},
   "outputs": [
    {
     "name": "stdout",
     "output_type": "stream",
     "text": [
      "The maximum value is  200\n"
     ]
    }
   ],
   "source": [
    "# write a python programme that take a list of integers  and find the maximum value  using a for loop\n",
    "# don not use the bulid in max function\n",
    "\n",
    "my_list = [100, 8, 20, 9, -11, 13 , 200]\n",
    "\n",
    "max_value = my_list[0]\n",
    "  \n",
    "\n",
    "\n",
    "for  i in my_list:\n",
    "    if i > max_value:\n",
    "        max_value = i\n",
    "\n",
    "        print(\"The maximum value is \", max_value )\n",
    "\n",
    "    \n",
    "\n",
    "\n"
   ]
  },
  {
   "cell_type": "code",
   "execution_count": 55,
   "id": "a613c25f",
   "metadata": {},
   "outputs": [
    {
     "name": "stdout",
     "output_type": "stream",
     "text": [
      "[25, 100, 144, 64, 49]\n"
     ]
    }
   ],
   "source": [
    "my_list = [5, 10, 12, 8, 7]\n",
    "\n",
    "# result = [expression for item in iterable  if condition]\n",
    "\n",
    "result = [item ** 2 for item in my_list]\n",
    "print(result)"
   ]
  },
  {
   "cell_type": "code",
   "execution_count": 58,
   "id": "00220144",
   "metadata": {},
   "outputs": [
    {
     "name": "stdout",
     "output_type": "stream",
     "text": [
      "Squares of even numbers between 1 and 10: [4, 16, 36, 64, 100]\n"
     ]
    }
   ],
   "source": [
    "# Create a list with the squre of even numbers between (1 and 10) using list comprehension\n",
    "\n",
    "even_squares =[i ** 2 for i in range(1, 11) if i % 2 == 0]\n",
    "print(\"Squares of even numbers between 1 and 10:\", even_squares)\n",
    "\n",
    "\n",
    "\n"
   ]
  },
  {
   "cell_type": "code",
   "execution_count": 61,
   "id": "0ef27f3c",
   "metadata": {},
   "outputs": [
    {
     "name": "stdout",
     "output_type": "stream",
     "text": [
      "Positive integers less than 10\n",
      "1\n",
      "2\n",
      "3\n",
      "4\n",
      "5\n",
      "6\n",
      "7\n",
      "8\n",
      "9\n"
     ]
    }
   ],
   "source": [
    "# while loop\n",
    "\n",
    "# write a python programme using while loop to display all  positive integers which are below than the user input end (you should check input validation)\n",
    "\n",
    "num = int(input(\"Enter the positive number:\"))\n",
    "\n",
    "if num <= 0:\n",
    "    print(\"please enter a positive number\")\n",
    "\n",
    "else:\n",
    "    i = 1\n",
    "    print(\"Positive integers less than\", num)  \n",
    "\n",
    "    while i < num:\n",
    "        print(i)\n",
    "        i += 1   \n",
    "\n",
    "\n",
    "\n",
    "         \n",
    "\n",
    "\n"
   ]
  },
  {
   "cell_type": "code",
   "execution_count": 62,
   "id": "d6b6a4e9",
   "metadata": {},
   "outputs": [
    {
     "name": "stdout",
     "output_type": "stream",
     "text": [
      "1\n",
      "2\n",
      "3\n",
      "4\n",
      "5\n"
     ]
    }
   ],
   "source": [
    "n = int(input(\"Enter the positive number:\"))\n",
    "\n",
    "count = 0\n",
    "\n",
    "while count < n-1:\n",
    "    count +=1\n",
    "    print(count)\n",
    "\n",
    "    # while exiting use break"
   ]
  },
  {
   "cell_type": "code",
   "execution_count": null,
   "id": "6dfbff00",
   "metadata": {},
   "outputs": [
    {
     "name": "stdout",
     "output_type": "stream",
     "text": [
      "Reversed number is: 5279\n"
     ]
    }
   ],
   "source": [
    "# write a python programme to reverse the digits of an given integer using a while loop\n",
    "# example input :9725\n",
    "# output: 5279\n",
    "\n",
    "\n",
    "num = int(input(\"Enter a positive integer.\"))\n",
    "if num < 0:\n",
    "    print(\"Please enter a positive integer.\")\n",
    "else:\n",
    "    reversed_num = 0\n",
    "    while num > 0:\n",
    "      \n",
    "      digits  = num % 10\n",
    "\n",
    "      reversed_num = reversed_num * 10 + digits\n",
    "\n",
    "      num //= 10\n",
    "      \n",
    "\n",
    "\n",
    "    print(\"Reversed number is:\", reversed_num)\n"
   ]
  }
 ],
 "metadata": {
  "kernelspec": {
   "display_name": "Python 3",
   "language": "python",
   "name": "python3"
  },
  "language_info": {
   "codemirror_mode": {
    "name": "ipython",
    "version": 3
   },
   "file_extension": ".py",
   "mimetype": "text/x-python",
   "name": "python",
   "nbconvert_exporter": "python",
   "pygments_lexer": "ipython3",
   "version": "3.13.4"
  }
 },
 "nbformat": 4,
 "nbformat_minor": 5
}
