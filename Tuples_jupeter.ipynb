{
 "cells": [
  {
   "cell_type": "code",
   "execution_count": 5,
   "id": "d1036386",
   "metadata": {},
   "outputs": [
    {
     "name": "stdout",
     "output_type": "stream",
     "text": [
      "('tenis', 'cricket', 'football')\n",
      "<class 'tuple'>\n",
      "cricket\n",
      "3\n"
     ]
    }
   ],
   "source": [
    "sports = (\"tenis\", \"cricket\", \"football\")\n",
    "\n",
    "\n",
    "print(sports)\n",
    "print(type(sports))\n",
    "print(sports[1])\n",
    "print(len(sports))"
   ]
  },
  {
   "cell_type": "code",
   "execution_count": 10,
   "id": "f58c1bfa",
   "metadata": {},
   "outputs": [
    {
     "name": "stdout",
     "output_type": "stream",
     "text": [
      "('pizza',)\n",
      "<class 'tuple'>\n",
      "1\n"
     ]
    }
   ],
   "source": [
    "foods = (\"pizza\",)\n",
    "\n",
    "print(foods)\n",
    "print(type(foods))\n",
    "print(len(foods))"
   ]
  },
  {
   "cell_type": "code",
   "execution_count": 11,
   "id": "c2606820",
   "metadata": {},
   "outputs": [
    {
     "name": "stdout",
     "output_type": "stream",
     "text": [
      "('tennins', 30, True, 'cricket', 'football')\n",
      "<class 'tuple'>\n",
      "(True, 'cricket', 'football')\n",
      "('tennins', 30, True, 'cricket')\n",
      "(True, 'cricket', 'football')\n"
     ]
    }
   ],
   "source": [
    "my_tuple = (\"tennins\", 30, True, \"cricket\",\"football\")\n",
    "\n",
    "print(my_tuple)\n",
    "print(type(my_tuple))\n",
    "\n",
    "print(my_tuple[2:5])\n",
    "\n",
    "print(my_tuple[:4])\n",
    "\n",
    "print(my_tuple[2:])"
   ]
  },
  {
   "cell_type": "code",
   "execution_count": 13,
   "id": "00d1f2b6",
   "metadata": {},
   "outputs": [
    {
     "name": "stdout",
     "output_type": "stream",
     "text": [
      "['apple', 'banana', 'orange'] <class 'list'>\n"
     ]
    }
   ],
   "source": [
    "fruits = (\"apple\", \"banana\", \"orange\")\n",
    " \n",
    "x = list(fruits)\n",
    "\n",
    "print(x, type(x))\n",
    " "
   ]
  },
  {
   "cell_type": "code",
   "execution_count": 17,
   "id": "6a51f4fc",
   "metadata": {},
   "outputs": [
    {
     "name": "stdout",
     "output_type": "stream",
     "text": [
      "['apple', 'Grapse', 'orange']\n",
      "('apple', 'Grapse', 'orange') <class 'tuple'>\n"
     ]
    }
   ],
   "source": [
    "x[1] =\"Grapse\"\n",
    "\n",
    "print(x)\n",
    "\n",
    "fruits = tuple(x)\n",
    "print(fruits, type(fruits))"
   ]
  },
  {
   "cell_type": "code",
   "execution_count": null,
   "id": "2f882a5a",
   "metadata": {},
   "outputs": [],
   "source": [
    "nested_tuple = ((1, 2,3), (\"a\", \"b\", \"c\"), (True, False))\n",
    "print(nested_tuple)\n",
    "\n",
    "print(nested_tuple[1][1])  # Accessing 'c' from the second tuple\n",
    "print(nested_tuple[2][0])\n"
   ]
  },
  {
   "cell_type": "code",
   "execution_count": null,
   "id": "fb4ca0a0",
   "metadata": {},
   "outputs": [
    {
     "name": "stdout",
     "output_type": "stream",
     "text": [
      "{40, 50, 25, 60, 30} <class 'set'>\n",
      "[25, 30, 40, 50, 60]\n",
      "<class 'list'>\n"
     ]
    }
   ],
   "source": [
    "list_1 = [50, 60, 30, 40, 50, 25, 60, 30, 40]\n",
    "\n",
    "set_1 = set(list_1)\n",
    "\n",
    "\n",
    "# removing\n",
    "print(set_1, type(set_1)) \n",
    "\n",
    "\n",
    "list_1 = list(set_1)\n",
    "\n",
    "list_1.so rt()\n",
    "\n",
    "print(list_1)\n",
    "print(type(list_1))\n",
    "\n",
    "\n",
    "\n",
    "\n",
    "\n"
   ]
  },
  {
   "cell_type": "code",
   "execution_count": 55,
   "id": "f6b127a7",
   "metadata": {},
   "outputs": [
    {
     "name": "stdout",
     "output_type": "stream",
     "text": [
      "range(1, 7) <class 'range'>\n",
      "range(1, 12)\n",
      "range(3, 24, 4)\n"
     ]
    }
   ],
   "source": [
    "# python Range\n",
    "x = range(1,7,1)\n",
    "\n",
    "y = range(1, 12, 1)\n",
    "\n",
    "z = range(3, 24, 4)\n",
    "\n",
    "print(x, type(x))\n",
    "print(y)\n",
    "print(z)"
   ]
  },
  {
   "cell_type": "code",
   "execution_count": 57,
   "id": "b8a01b14",
   "metadata": {},
   "outputs": [
    {
     "name": "stdout",
     "output_type": "stream",
     "text": [
      "11\n"
     ]
    }
   ],
   "source": [
    "print(z[2])"
   ]
  },
  {
   "cell_type": "code",
   "execution_count": 58,
   "id": "4c5311b6",
   "metadata": {},
   "outputs": [
    {
     "name": "stdout",
     "output_type": "stream",
     "text": [
      "23\n"
     ]
    }
   ],
   "source": [
    "print(z[5])"
   ]
  },
  {
   "cell_type": "code",
   "execution_count": 59,
   "id": "2aa43cb2",
   "metadata": {},
   "outputs": [
    {
     "ename": "IndexError",
     "evalue": "range object index out of range",
     "output_type": "error",
     "traceback": [
      "\u001b[31m---------------------------------------------------------------------------\u001b[39m",
      "\u001b[31mIndexError\u001b[39m                                Traceback (most recent call last)",
      "\u001b[36mCell\u001b[39m\u001b[36m \u001b[39m\u001b[32mIn[59]\u001b[39m\u001b[32m, line 1\u001b[39m\n\u001b[32m----> \u001b[39m\u001b[32m1\u001b[39m \u001b[38;5;28mprint\u001b[39m(\u001b[43mz\u001b[49m\u001b[43m[\u001b[49m\u001b[32;43m6\u001b[39;49m\u001b[43m]\u001b[49m)\n",
      "\u001b[31mIndexError\u001b[39m: range object index out of range"
     ]
    }
   ],
   "source": [
    "print(z[6])"
   ]
  },
  {
   "cell_type": "code",
   "execution_count": null,
   "id": "777dc45c",
   "metadata": {},
   "outputs": [
    {
     "name": "stdout",
     "output_type": "stream",
     "text": [
      "{'name': 'Sugar', 'weight': '1kg', 'price': 100.35}\n",
      "<class 'dict'>\n",
      "1kg\n",
      "100.35\n",
      "3\n",
      "{'name': 'Sugar', 'weight': '1kg', 'price': 140.5}\n",
      "{'name': 'Sugar', 'weight': '1kg', 'price': 140.5, 'color': 'brown'}\n",
      "{'name': 'Sugar', 'weight': '1kg', 'price': 120.75, 'color': 'brown', 'expire_date': 'Jan 2025'}\n",
      "{'name': 'Sugar', 'weight': '1kg', 'color': 'brown', 'expire_date': 'Jan 2025'}\n"
     ]
    }
   ],
   "source": [
    "this_dict  = {\n",
    "    \"name\" : \"Sugar\",\n",
    "    \"weight\" : \"1kg\",\n",
    "    \"price\": 100.35\n",
    "}\n",
    "\n",
    "print(this_dict)\n",
    "print(type(this_dict))\n",
    "\n",
    "print(this_dict[\"weight\"])\n",
    "print(this_dict.get(\"price\"))\n",
    "print(len(this_dict))\n",
    "\n",
    "# update the price\n",
    "\n",
    "this_dict[\"price\"] = 140.50\n",
    "\n",
    "print(this_dict)\n",
    "\n",
    "# add a new item as color \n",
    "\n",
    "this_dict[\"color\"] = \"brown\"\n",
    "\n",
    "print(this_dict)\n",
    "\n",
    "# new one item or 2 \n",
    "this_dict.update({\"expire_date\": \"Jan 2025\", \"price\": 120.75})\n",
    "\n",
    "print(this_dict)\n",
    "\n",
    "# remove the price\n",
    "this_dict.pop(\"price\")\n",
    "\n",
    "print(this_dict)\n",
    "\n"
   ]
  },
  {
   "cell_type": "code",
   "execution_count": 79,
   "id": "c7e4ed12",
   "metadata": {},
   "outputs": [
    {
     "name": "stdout",
     "output_type": "stream",
     "text": [
      "{'name': 'Sugar', 'weight': '1kg', 'price': 100.35}\n",
      "{'name': 'Sugar', 'weight': '1kg', 'price': 100.35}\n",
      "{'name': 'Sugar', 'weight': '1kg', 'price': 200.0}\n",
      "{'name': 'Sugar', 'weight': '1kg', 'price': 100.35}\n"
     ]
    }
   ],
   "source": [
    "this_dict  = {\n",
    "    \"name\" : \"Sugar\",\n",
    "    \"weight\" : \"1kg\",\n",
    "    \"price\": 100.35\n",
    "}\n",
    "\n",
    "# this_dict.popitem()  # removes the last inserted item\n",
    "\n",
    "print(this_dict)\n",
    "\n",
    "# del this_dict[\"weight\"]  # removes the weight item\n",
    "\n",
    "# print(this_dict)\n",
    "\n",
    "# del this_dict  # deletes the entire dictionary\n",
    "# print(this_dict)\n",
    "\n",
    "# this_dict.clear()  # clears the dictionary but keeps it\n",
    "\n",
    "# print(this_dict)\n",
    "\n",
    "# Copying a dictionary\n",
    "this_dict_copy = this_dict.copy()\n",
    "print(this_dict_copy)\n",
    "\n",
    "# Change the origanl dictionary\n",
    "this_dict[\"price\"] = 200.00\n",
    "\n",
    "print(this_dict)\n",
    "\n",
    "print(this_dict_copy)"
   ]
  },
  {
   "cell_type": "code",
   "execution_count": 85,
   "id": "b562c267",
   "metadata": {},
   "outputs": [
    {
     "name": "stdout",
     "output_type": "stream",
     "text": [
      "2.3333333333333335\n"
     ]
    }
   ],
   "source": [
    "x,y = 7,3\n",
    "\n",
    "print(x / y) "
   ]
  },
  {
   "cell_type": "code",
   "execution_count": 84,
   "id": "9a327cf1",
   "metadata": {},
   "outputs": [
    {
     "name": "stdout",
     "output_type": "stream",
     "text": [
      "2\n"
     ]
    }
   ],
   "source": [
    "x,y = 7,3\n",
    "\n",
    "print(x // y)  # Floor division\n"
   ]
  },
  {
   "cell_type": "code",
   "execution_count": null,
   "id": "7080de78",
   "metadata": {},
   "outputs": [
    {
     "name": "stdout",
     "output_type": "stream",
     "text": [
      "1\n"
     ]
    }
   ],
   "source": [
    "x,y = 7,3\n",
    "\n",
    "print(x % y) #Remainder"
   ]
  },
  {
   "cell_type": "code",
   "execution_count": 86,
   "id": "4f0eb1a1",
   "metadata": {},
   "outputs": [
    {
     "name": "stdout",
     "output_type": "stream",
     "text": [
      "False\n"
     ]
    }
   ],
   "source": [
    "a, b = 4, 5\n",
    "print(a == b)"
   ]
  },
  {
   "cell_type": "code",
   "execution_count": 87,
   "id": "cc787090",
   "metadata": {},
   "outputs": [
    {
     "name": "stdout",
     "output_type": "stream",
     "text": [
      "True\n"
     ]
    }
   ],
   "source": [
    "a,b = 4, 4\n",
    "print(a == b)"
   ]
  },
  {
   "cell_type": "code",
   "execution_count": null,
   "id": "34a622aa",
   "metadata": {},
   "outputs": [],
   "source": []
  },
  {
   "cell_type": "code",
   "execution_count": 88,
   "id": "ff0d60d2",
   "metadata": {},
   "outputs": [
    {
     "name": "stdout",
     "output_type": "stream",
     "text": [
      "True\n"
     ]
    }
   ],
   "source": [
    "a, b = 4, 5\n",
    "print(a != b)"
   ]
  },
  {
   "cell_type": "code",
   "execution_count": 91,
   "id": "b83bc440",
   "metadata": {},
   "outputs": [
    {
     "name": "stdout",
     "output_type": "stream",
     "text": [
      "True\n",
      "False\n"
     ]
    }
   ],
   "source": [
    "x,y, z = 10, 5, 20\n",
    "\n",
    "print(x > 5 or y < 10 and z > 20)\n",
    "print((x > 5 or y < 10) and z > 20)\n"
   ]
  },
  {
   "cell_type": "code",
   "execution_count": 92,
   "id": "c85d7685",
   "metadata": {},
   "outputs": [
    {
     "name": "stdout",
     "output_type": "stream",
     "text": [
      "False\n"
     ]
    }
   ],
   "source": [
    "x,y = 5, 6\n",
    "\n",
    "print(x is y)  # Checks if x and y are the same object"
   ]
  },
  {
   "cell_type": "code",
   "execution_count": 93,
   "id": "11a80f3c",
   "metadata": {},
   "outputs": [
    {
     "name": "stdout",
     "output_type": "stream",
     "text": [
      "True\n"
     ]
    }
   ],
   "source": [
    "x,y = 5, 5\n",
    "\n",
    "print(x is y)  # Checks if x and y are the same object"
   ]
  },
  {
   "cell_type": "markdown",
   "id": "2bc0f059",
   "metadata": {},
   "source": []
  },
  {
   "cell_type": "code",
   "execution_count": 94,
   "id": "adb7433b",
   "metadata": {},
   "outputs": [
    {
     "name": "stdout",
     "output_type": "stream",
     "text": [
      "True\n"
     ]
    }
   ],
   "source": [
    "x = 5\n",
    "\n",
    "y = x\n",
    "print(x is y)  # Checks if x and y are the same object"
   ]
  },
  {
   "cell_type": "code",
   "execution_count": 95,
   "id": "445482db",
   "metadata": {},
   "outputs": [
    {
     "name": "stdout",
     "output_type": "stream",
     "text": [
      "True\n",
      "False\n"
     ]
    }
   ],
   "source": [
    "nums = [10, 8, 4, 3, 2]\n",
    "\n",
    "print (8 in nums)\n",
    "\n",
    "print (5 in nums)"
   ]
  },
  {
   "cell_type": "code",
   "execution_count": 97,
   "id": "6d1c47b4",
   "metadata": {},
   "outputs": [
    {
     "name": "stdout",
     "output_type": "stream",
     "text": [
      "0\n"
     ]
    }
   ],
   "source": [
    "x , y = 5, 10\n",
    "z = x & y\n",
    "\n",
    "print(z)"
   ]
  },
  {
   "cell_type": "code",
   "execution_count": 102,
   "id": "d4e51e96",
   "metadata": {},
   "outputs": [
    {
     "name": "stdout",
     "output_type": "stream",
     "text": [
      "n is odd\n"
     ]
    }
   ],
   "source": [
    "# Flow condition\n",
    "n = 13\n",
    "if n % 2 == 0:\n",
    "    print(\"n is even\")\n",
    "else:\n",
    "    print(\"n is odd\")"
   ]
  },
  {
   "cell_type": "code",
   "execution_count": 105,
   "id": "ebb518fe",
   "metadata": {},
   "outputs": [
    {
     "name": "stdout",
     "output_type": "stream",
     "text": [
      "z is not empty\n"
     ]
    }
   ],
   "source": [
    "z = [10, 20, 30, 40, 50]\n",
    "if len(z) == 0:\n",
    "    print(\"z is empty\")\n",
    "else:\n",
    "    print(\"z is not empty\")\n"
   ]
  },
  {
   "cell_type": "code",
   "execution_count": 109,
   "id": "4b09c930",
   "metadata": {},
   "outputs": [
    {
     "name": "stdout",
     "output_type": "stream",
     "text": [
      "list_1 is not empty\n"
     ]
    }
   ],
   "source": [
    "list_1 = [1, 5]\n",
    "\n",
    "if list_1:\n",
    "    print(\"list_1 is not empty\")\n",
    "else:\n",
    "    print(\"list_1 is empty\")"
   ]
  },
  {
   "cell_type": "code",
   "execution_count": 111,
   "id": "58ef1964",
   "metadata": {},
   "outputs": [
    {
     "name": "stdout",
     "output_type": "stream",
     "text": [
      "r should bes positive\n"
     ]
    }
   ],
   "source": [
    "# calculate the are if a circle\n",
    "\n",
    "# pi = 3.14\n",
    "\n",
    "r = 0\n",
    "\n",
    "if r <= 0:\n",
    "    print(\"r should bes positive\")\n",
    "else:\n",
    "    z = 2 * 3.14 * r\n",
    "    print(z)\n",
    "\n",
    "\n",
    "\n",
    "\n"
   ]
  },
  {
   "cell_type": "code",
   "execution_count": 112,
   "id": "a48e9b37",
   "metadata": {},
   "outputs": [
    {
     "name": "stdout",
     "output_type": "stream",
     "text": [
      "Cirumference of the circle is: 43.96\n"
     ]
    }
   ],
   "source": [
    "PI_VALUE = 3.14\n",
    "radius = 7\n",
    "if radius <= 0:\n",
    "    print(\"Radius should be a positive Value.\")\n",
    "else:\n",
    "    circumference = 2 * PI_VALUE * radius\n",
    "    print(\"Cirumference of the circle is:\", circumference)    "
   ]
  },
  {
   "cell_type": "code",
   "execution_count": 113,
   "id": "997eb742",
   "metadata": {},
   "outputs": [
    {
     "name": "stdout",
     "output_type": "stream",
     "text": [
      "Hypotenuse of the triangle is: 13.0\n"
     ]
    }
   ],
   "source": [
    "side_1 = 5\n",
    "side_2 = 12\n",
    "\n",
    "if side_1 <= 0 or side_2 <= 0:\n",
    "    print(\"Both sides should be positive values.\")\n",
    "else:\n",
    "    hypotenuse = (side_1 ** 2 + side_2 ** 2) ** 0.5\n",
    "    print(\"Hypotenuse of the triangle is:\", hypotenuse)    "
   ]
  },
  {
   "cell_type": "markdown",
   "id": "2252409e",
   "metadata": {},
   "source": []
  }
 ],
 "metadata": {
  "kernelspec": {
   "display_name": "Python 3",
   "language": "python",
   "name": "python3"
  },
  "language_info": {
   "codemirror_mode": {
    "name": "ipython",
    "version": 3
   },
   "file_extension": ".py",
   "mimetype": "text/x-python",
   "name": "python",
   "nbconvert_exporter": "python",
   "pygments_lexer": "ipython3",
   "version": "3.13.4"
  }
 },
 "nbformat": 4,
 "nbformat_minor": 5
}
