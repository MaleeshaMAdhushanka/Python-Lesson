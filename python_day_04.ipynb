{
 "cells": [
  {
   "cell_type": "code",
   "execution_count": null,
   "id": "3ad35eb9",
   "metadata": {},
   "outputs": [
    {
     "name": "stdout",
     "output_type": "stream",
     "text": [
      "7\n"
     ]
    }
   ],
   "source": [
    "# Python Functions\n",
    "\n",
    "# Def - Key word - is used to declare a function\n",
    "# Function_name (parameters): any name give to the function, any value passed to function\n",
    "#  statement\n",
    "# return statement -return values from a function\n",
    "\n",
    "def add_Numbers(a, b):\n",
    "    return a+b\n",
    "\n",
    "print(add_Numbers(3, 4))\n",
    "\n",
    "# Python function Arguments\n",
    "# Arguments are the values tha values passed inside the parentheses of the function .\n",
    "# A function can have any numbers of arguments separated by a comma.\n",
    "    "
   ]
  },
  {
   "cell_type": "code",
   "execution_count": 7,
   "id": "e9e77fa7",
   "metadata": {},
   "outputs": [
    {
     "name": "stdout",
     "output_type": "stream",
     "text": [
      "5\n"
     ]
    }
   ],
   "source": [
    "## write a function \"count even numbers\"that takes a list of integers &returns the count of even numbers\n",
    "\n",
    "def count_even_numbers(numbers):\n",
    "    count = 0\n",
    "\n",
    "    for number in numbers:\n",
    "     if number  % 2 == 0:\n",
    "            count += 1\n",
    "    return count     \n",
    "print(count_even_numbers([1, 2, 3, 4, 5, 6, 7, 8, 9, 10]))"
   ]
  },
  {
   "cell_type": "code",
   "execution_count": 11,
   "id": "db5db91f",
   "metadata": {},
   "outputs": [
    {
     "name": "stdout",
     "output_type": "stream",
     "text": [
      "9\n"
     ]
    }
   ],
   "source": [
    "# write a function \"find max(lst)\"that takes a list of numbers & returns the maximum value (without using max())\n",
    "\n",
    "def find_max(lst):\n",
    "    max_value = lst[0]\n",
    "    for number in lst:\n",
    "        if number > max_value:\n",
    "            max_value = number\n",
    "    return max_value\n",
    "lst = [3, 1, 4, 5, 9, 2, 6, 5]\n",
    "print(find_max(lst))"
   ]
  },
  {
   "cell_type": "code",
   "execution_count": null,
   "id": "3221d4b4",
   "metadata": {},
   "outputs": [
    {
     "name": "stdout",
     "output_type": "stream",
     "text": [
      "[1, 2, 3, 4, 5]\n"
     ]
    }
   ],
   "source": [
    "# write a function named \"remove_duplicates(lst)\"that returns a new list with duplicates removed.(preswerve order)\n",
    "# It creates an empty list called new_list to store unique elements.\n",
    "# It iterates through each item in the input list lst.\n",
    "# For each item, it checks if that item is already in new_list.\n",
    "# If the item is not already in new_list (meaning it's the first occurrence), it adds the item to new_list.\n",
    "# If the item is already in new_list (meaning it's a duplicate), it skips it.\n",
    "\n",
    "\n",
    "\n",
    "def remove_duplicates(lst):\n",
    "    new_list = []\n",
    "    for item in lst:\n",
    "        if item not in new_list:\n",
    "            new_list.append(item)\n",
    "    return new_list\n",
    "lst = [1, 2, 2, 3, 4 , 4, 5]\n",
    "print(remove_duplicates(lst))"
   ]
  },
  {
   "cell_type": "code",
   "execution_count": null,
   "id": "5e84a4ee",
   "metadata": {},
   "outputs": [],
   "source": [
    "# Types of Python functions arguments\n",
    "\n",
    "# 1.Positional arguments\n",
    "# 2.Default arguments\n",
    "# 3.Keyword arguments(named arguments)\n",
    "# 4.Arbitrary arguments(variable-length  arguments *args and **kwargs)"
   ]
  },
  {
   "cell_type": "code",
   "execution_count": null,
   "id": "ce313e5f",
   "metadata": {},
   "outputs": [],
   "source": [
    "# Positional arguments \n",
    "\n",
    "# Positional arguments are a type of function arguments inPython \n",
    "# where the values are passed  to the function based on their position or order\n",
    "# In the functions  parameter list\n",
    "# These are the most basic and common type of arguments used when calling a function\n",
    "\n",
    "# When you pass values to a function without explicitly specifying a parameter names,\n",
    "#  Python assigns them to the parameters in the order they appear in the functions parameter list."
   ]
  },
  {
   "cell_type": "code",
   "execution_count": 13,
   "id": "4583d0fc",
   "metadata": {},
   "outputs": [
    {
     "name": "stdout",
     "output_type": "stream",
     "text": [
      "Hello Maleesha\n"
     ]
    }
   ],
   "source": [
    "# Positional  Parameters\n",
    "\n",
    "def greet(name, greeting):\n",
    "    print(greeting, name)\n",
    "\n",
    "greet(\"Maleesha\", \"Hello\")\n",
    "\n",
    "# out put Hello Maleesha"
   ]
  },
  {
   "cell_type": "code",
   "execution_count": 14,
   "id": "57bc9445",
   "metadata": {},
   "outputs": [
    {
     "name": "stdout",
     "output_type": "stream",
     "text": [
      "Hello Alice!\n",
      "Hi Bob!\n"
     ]
    }
   ],
   "source": [
    "# Default arguments\n",
    "\n",
    "# A default arguments is a parameter that assumes a default value if a value is not provided in the function call for that argument \n",
    "\n",
    "\n",
    "def greet(name, greeting=\"Hello\"):\n",
    "    return f\"{greeting} {name}!\"\n",
    "\n",
    "print(greet(\"Alice\")) # output Hello Alice  \n",
    "print(greet(\"Bob\", \"Hi\")) # output Hi Bob  \n",
    "\n"
   ]
  },
  {
   "cell_type": "code",
   "execution_count": 22,
   "id": "1df88b38",
   "metadata": {},
   "outputs": [],
   "source": [
    "# Any numbers of arguments in a function can have a default value.\n",
    "# But once we have a default argument, all the arguments to its right must also have default values.\n",
    "# \n",
    "\n",
    "def func(a, b=10, c=20):\n",
    "    print(a, b, c) \n",
    "\n",
    "\n",
    "# Invalid example:\n",
    "# def funb(a=5, b, c=10):\n",
    "#     print(a, b, c)  "
   ]
  },
  {
   "cell_type": "code",
   "execution_count": 31,
   "id": "63b0e58b",
   "metadata": {},
   "outputs": [
    {
     "name": "stdout",
     "output_type": "stream",
     "text": [
      "11\n",
      "7\n"
     ]
    }
   ],
   "source": [
    "# Default arguments in functions\n",
    "def add_numbers(a, b=8):\n",
    "    return a + b\n",
    "\n",
    "print(add_numbers(3))\n",
    "print(add_numbers(3, 4))"
   ]
  },
  {
   "cell_type": "code",
   "execution_count": 2,
   "id": "c8bc2d65",
   "metadata": {},
   "outputs": [
    {
     "name": "stdout",
     "output_type": "stream",
     "text": [
      "John Nash\n",
      "John Nash\n"
     ]
    }
   ],
   "source": [
    "# Key word arguments\n",
    "\n",
    "#  The idea is to allow the caller to specify arguments by name with values so that caller does not need to remember the order or parameters.\n",
    "\n",
    "# Python program to demonstrate keyword arguments\n",
    "def student(first_name, last_name):\n",
    "    print(first_name, last_name)\n",
    "\n",
    "student(first_name=\"John\", last_name=\"Nash\")\n",
    "student(last_name=\"Nash\", first_name=\"John\")            "
   ]
  },
  {
   "cell_type": "code",
   "execution_count": 7,
   "id": "ea7b3098",
   "metadata": {},
   "outputs": [
    {
     "name": "stdout",
     "output_type": "stream",
     "text": [
      "a: 10\n",
      "b: 20\n",
      "a: 40\n",
      "b: 30\n",
      "a: 50\n",
      "b: 60\n"
     ]
    }
   ],
   "source": [
    "def display_number(a, b):\n",
    "     print(\"a:\", a)\n",
    "     print(\"b:\", b)\n",
    "\n",
    "display_number(a=10, b=20)\n",
    "display_number(b=30, a=40) #Keyword argument allow you to specify the order\n",
    "display_number(50, 60) # Positional arguments work as well\n"
   ]
  },
  {
   "cell_type": "code",
   "execution_count": 5,
   "id": "a396a7a2",
   "metadata": {},
   "outputs": [
    {
     "name": "stdout",
     "output_type": "stream",
     "text": [
      "27\n",
      "9\n"
     ]
    }
   ],
   "source": [
    "# write a function that calculates &returns the value of a number raised to a certain power.The function should accept two arguments: te number and the exponent.It the exponent is not provided,it should calculate the square of the number\n",
    "\n",
    "def power(number, exponent = 2):\n",
    "     return number ** exponent\n",
    "print(power(3, 3))\n",
    "print(power(3))    "
   ]
  },
  {
   "cell_type": "code",
   "execution_count": 6,
   "id": "06d0f879",
   "metadata": {},
   "outputs": [
    {
     "name": "stdout",
     "output_type": "stream",
     "text": [
      "120\n"
     ]
    }
   ],
   "source": [
    "def factorial(n):\n",
    "    result = 1\n",
    "    if n == 0:\n",
    "        return result\n",
    "    for i in range(1, n + 1):\n",
    "        result *= i\n",
    "    return result\n",
    "print(factorial(5))    "
   ]
  },
  {
   "cell_type": "code",
   "execution_count": 10,
   "id": "282fa669",
   "metadata": {},
   "outputs": [
    {
     "name": "stdout",
     "output_type": "stream",
     "text": [
      "45000.0\n",
      "54000.0\n",
      "45000.0\n",
      "54000.0\n"
     ]
    }
   ],
   "source": [
    "# write a function that calculates an employee's net salary.The function should accept the based salary,bonus(default to 0)and tax rate (default to 10%) The net salary is calculated by adding the bonus to the based salary & substracting the the tax.Demostrate different ways of calling this function using positional ane keyword arguments\n",
    "def calculate_net_salary(base_salary, bonus=0, tax_rate =0.1):\n",
    "         net_income = base_salary + bonus\n",
    "         net_salary = net_income * (0.9)\n",
    "         return net_salary\n",
    "print(calculate_net_salary(50000))\n",
    "print(calculate_net_salary(50000, 10000))  \n",
    "print(calculate_net_salary(50000, tax_rate=0.15))\n",
    "print(calculate_net_salary(base_salary=50000, bonus=10000, tax_rate=0.15))\n",
    "\n",
    "  \n",
    "\n"
   ]
  }
 ],
 "metadata": {
  "kernelspec": {
   "display_name": "Python 3",
   "language": "python",
   "name": "python3"
  },
  "language_info": {
   "codemirror_mode": {
    "name": "ipython",
    "version": 3
   },
   "file_extension": ".py",
   "mimetype": "text/x-python",
   "name": "python",
   "nbconvert_exporter": "python",
   "pygments_lexer": "ipython3",
   "version": "3.13.4"
  }
 },
 "nbformat": 4,
 "nbformat_minor": 5
}
