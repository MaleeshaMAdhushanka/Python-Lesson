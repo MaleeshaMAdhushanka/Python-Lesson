{
 "cells": [
  {
   "cell_type": "code",
   "execution_count": null,
   "id": "3ad35eb9",
   "metadata": {},
   "outputs": [
    {
     "name": "stdout",
     "output_type": "stream",
     "text": [
      "7\n"
     ]
    }
   ],
   "source": [
    "# Python Functions\n",
    "\n",
    "# Def - Key word - is used to declare a function\n",
    "# Function_name (parameters): any name give to the function, any value passed to function\n",
    "#  statement\n",
    "# return statement -return values from a function\n",
    "\n",
    "def add_Numbers(a, b):\n",
    "    return a+b\n",
    "\n",
    "print(add_Numbers(3, 4))\n",
    "\n",
    "# Python function Arguments\n",
    "# Arguments are the values tha values passed inside the parentheses of the function .\n",
    "# A function can have any numbers of arguments separated by a comma.\n",
    "    "
   ]
  },
  {
   "cell_type": "code",
   "execution_count": 7,
   "id": "e9e77fa7",
   "metadata": {},
   "outputs": [
    {
     "name": "stdout",
     "output_type": "stream",
     "text": [
      "5\n"
     ]
    }
   ],
   "source": [
    "## write a function \"count even numbers\"that takes a list of integers &returns the count of even numbers\n",
    "\n",
    "def count_even_numbers(numbers):\n",
    "    count = 0\n",
    "\n",
    "    for number in numbers:\n",
    "     if number  % 2 == 0:\n",
    "            count += 1\n",
    "    return count     \n",
    "print(count_even_numbers([1, 2, 3, 4, 5, 6, 7, 8, 9, 10]))"
   ]
  },
  {
   "cell_type": "code",
   "execution_count": 11,
   "id": "db5db91f",
   "metadata": {},
   "outputs": [
    {
     "name": "stdout",
     "output_type": "stream",
     "text": [
      "9\n"
     ]
    }
   ],
   "source": [
    "# write a function \"find max(lst)\"that takes a list of numbers & returns the maximum value (without using max())\n",
    "\n",
    "def find_max(lst):\n",
    "    max_value = lst[0]\n",
    "    for number in lst:\n",
    "        if number > max_value:\n",
    "            max_value = number\n",
    "    return max_value\n",
    "lst = [3, 1, 4, 5, 9, 2, 6, 5]\n",
    "print(find_max(lst))"
   ]
  },
  {
   "cell_type": "code",
   "execution_count": null,
   "id": "3221d4b4",
   "metadata": {},
   "outputs": [
    {
     "name": "stdout",
     "output_type": "stream",
     "text": [
      "[1, 2, 3, 4, 5]\n"
     ]
    }
   ],
   "source": [
    "# write a function named \"remove_duplicates(lst)\"that returns a new list with duplicates removed.(preswerve order)\n",
    "# It creates an empty list called new_list to store unique elements.\n",
    "# It iterates through each item in the input list lst.\n",
    "# For each item, it checks if that item is already in new_list.\n",
    "# If the item is not already in new_list (meaning it's the first occurrence), it adds the item to new_list.\n",
    "# If the item is already in new_list (meaning it's a duplicate), it skips it.\n",
    "\n",
    "\n",
    "\n",
    "def remove_duplicates(lst):\n",
    "    new_list = []\n",
    "    for item in lst:\n",
    "        if item not in new_list:\n",
    "            new_list.append(item)\n",
    "    return new_list\n",
    "lst = [1, 2, 2, 3, 4 , 4, 5]\n",
    "print(remove_duplicates(lst))"
   ]
  },
  {
   "cell_type": "code",
   "execution_count": null,
   "id": "5e84a4ee",
   "metadata": {},
   "outputs": [],
   "source": [
    "# Types of Python functions arguments\n",
    "\n",
    "# 1.Positional arguments\n",
    "# 2.Default arguments\n",
    "# 3.Keyword arguments(named arguments)\n",
    "# 4.Arbitrary arguments(variable-length  arguments *args and **kwargs)"
   ]
  },
  {
   "cell_type": "code",
   "execution_count": null,
   "id": "ce313e5f",
   "metadata": {},
   "outputs": [],
   "source": [
    "# Positional arguments \n",
    "\n",
    "# Positional arguments are a type of function arguments inPython \n",
    "# where the values are passed  to the function based on their position or order\n",
    "# In the functions  parameter list\n",
    "# These are the most basic and common type of arguments used when calling a function\n",
    "\n",
    "# When you pass values to a function without explicitly specifying a parameter names,\n",
    "#  Python assigns them to the parameters in the order they appear in the functions parameter list."
   ]
  },
  {
   "cell_type": "code",
   "execution_count": 13,
   "id": "4583d0fc",
   "metadata": {},
   "outputs": [
    {
     "name": "stdout",
     "output_type": "stream",
     "text": [
      "Hello Maleesha\n"
     ]
    }
   ],
   "source": [
    "# Positional  Parameters\n",
    "\n",
    "def greet(name, greeting):\n",
    "    print(greeting, name)\n",
    "\n",
    "greet(\"Maleesha\", \"Hello\")\n",
    "\n",
    "# out put Hello Maleesha"
   ]
  },
  {
   "cell_type": "code",
   "execution_count": null,
   "id": "57bc9445",
   "metadata": {},
   "outputs": [],
   "source": []
  }
 ],
 "metadata": {
  "kernelspec": {
   "display_name": "Python 3",
   "language": "python",
   "name": "python3"
  },
  "language_info": {
   "codemirror_mode": {
    "name": "ipython",
    "version": 3
   },
   "file_extension": ".py",
   "mimetype": "text/x-python",
   "name": "python",
   "nbconvert_exporter": "python",
   "pygments_lexer": "ipython3",
   "version": "3.13.4"
  }
 },
 "nbformat": 4,
 "nbformat_minor": 5
}
