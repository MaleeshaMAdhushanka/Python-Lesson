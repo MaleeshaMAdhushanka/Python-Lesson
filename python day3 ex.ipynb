{
 "cells": [
  {
   "cell_type": "code",
   "execution_count": null,
   "id": "88f1d783",
   "metadata": {},
   "outputs": [],
   "source": [
    "# Python if elif -else statements\n",
    "\n",
    "# This allow you to handle multiple conditions sequentially,\n",
    "\n",
    "# It stand for if-else if else and used when you have a series of conditions to check.\n",
    "# and you want to execute different blocks of code based on which condition is satisfied.\n",
    "\n",
    "# This construct provides a way to create a chain of conditions and associated actions.\n"
   ]
  },
  {
   "cell_type": "code",
   "execution_count": null,
   "id": "e8e0a560",
   "metadata": {},
   "outputs": [],
   "source": [
    "# Python if elif -else statement\n",
    "\n",
    "# if condition1:\n",
    "#     # Code block to execute if condition1 is true\n",
    "# elif condition2:\n",
    "#     # Code block to execute if condition2 is true\n",
    "# elif condition3:\n",
    "#     # Code block to execute if condition3 is true\n",
    "# else:\n",
    "#     # Code block to execute if none of the above conditions are true"
   ]
  },
  {
   "cell_type": "code",
   "execution_count": null,
   "id": "09fe4e6e",
   "metadata": {},
   "outputs": [
    {
     "name": "stdout",
     "output_type": "stream",
     "text": [
      "n is even\n"
     ]
    }
   ],
   "source": [
    "# Flow condition\n",
    "n = 13\n",
    "if n % 2 == 0:\n",
    "    print(\"n is even\")\n",
    "else:\n",
    "    print(\"n is odd\")    "
   ]
  },
  {
   "cell_type": "code",
   "execution_count": 11,
   "id": "2448af7a",
   "metadata": {},
   "outputs": [
    {
     "name": "stdout",
     "output_type": "stream",
     "text": [
      "list is not empty\n"
     ]
    }
   ],
   "source": [
    "z = [10, 20, 30, 40, 50]\n",
    "\n",
    "if len(z) == 0:\n",
    "    print(\"List is empty\")\n",
    "else:\n",
    "    print(\"list is not empty\")\n",
    "        "
   ]
  },
  {
   "cell_type": "code",
   "execution_count": 12,
   "id": "b56a8341",
   "metadata": {},
   "outputs": [
    {
     "name": "stdout",
     "output_type": "stream",
     "text": [
      "List is not empty\n"
     ]
    }
   ],
   "source": [
    "list_1 = [1, 5]\n",
    "\n",
    "if list_1:\n",
    "    print(\"List is not empty\")\n",
    "else:\n",
    "    print(\"List is empty\")    "
   ]
  },
  {
   "cell_type": "code",
   "execution_count": 13,
   "id": "418bfbe2",
   "metadata": {},
   "outputs": [
    {
     "name": "stdout",
     "output_type": "stream",
     "text": [
      "r should bes positive\n"
     ]
    }
   ],
   "source": [
    "# calculate the are if a circle\n",
    "\n",
    "# pi = 3.14\n",
    "\n",
    "r = 0\n",
    "\n",
    "if r <= 0:\n",
    "    print(\"r should bes positive\")\n",
    "else:\n",
    "    z = 2 * 3.14 * r\n",
    "    print(z)\n"
   ]
  },
  {
   "cell_type": "code",
   "execution_count": 16,
   "id": "dfdb30ce",
   "metadata": {},
   "outputs": [
    {
     "name": "stdout",
     "output_type": "stream",
     "text": [
      "Circumference of the circle is: 43.96\n"
     ]
    }
   ],
   "source": [
    "PI__VALUE = 3.14\n",
    "radius = 7\n",
    "\n",
    "if radius <= 0:\n",
    "    print(\"Radius should be a positive value.\")\n",
    "else:\n",
    "    circumference  = 2 * PI__VALUE * radius\n",
    "    print(\"Circumference of the circle is:\", circumference)"
   ]
  },
  {
   "cell_type": "code",
   "execution_count": 17,
   "id": "e73ab07d",
   "metadata": {},
   "outputs": [
    {
     "name": "stdout",
     "output_type": "stream",
     "text": [
      "Hypotenuse of the triangle is: 13.0\n"
     ]
    }
   ],
   "source": [
    "side_1 = 5\n",
    "side_2 = 12\n",
    "\n",
    "if side_1 <= 0 or side_2 <= 0:\n",
    "    print(\"Both sides should be positive values.\")\n",
    "else:\n",
    "   hypotenuse = (side_1 ** 2 + side_2 ** 2) ** 0.5\n",
    "print(\"Hypotenuse of the triangle is:\", hypotenuse)"
   ]
  },
  {
   "cell_type": "code",
   "execution_count": 21,
   "id": "f3a18025",
   "metadata": {},
   "outputs": [
    {
     "name": "stdout",
     "output_type": "stream",
     "text": [
      "x is greater than y\n"
     ]
    }
   ],
   "source": [
    "# Python if-elif-else statement check whether 15 is equal to 12.\n",
    "# If not , the the elif condition will verify \n",
    "# that 15 is greater than 12.\n",
    "# If this condition is true, the code block inside elif weill be executed \n",
    "\n",
    "# otherwise, the code in the else block will be executed \n",
    "# if none if the preceding conditions are met.\n",
    "\n",
    "\n",
    "x = 15\n",
    "y = 12\n",
    "\n",
    "if  x == y:\n",
    "    print(\"Booth are equal\")\n",
    "elif x > y:\n",
    "    print(\"x is greater than y\")\n",
    "else:\n",
    "    print(\"X is less than y\")     "
   ]
  },
  {
   "cell_type": "code",
   "execution_count": 27,
   "id": "1d0f9925",
   "metadata": {},
   "outputs": [
    {
     "name": "stdout",
     "output_type": "stream",
     "text": [
      "C is largest than is 30\n"
     ]
    }
   ],
   "source": [
    "a = 10\n",
    "b = 20\n",
    "c = 30\n",
    "\n",
    "if a >= b and a >= c:\n",
    "    print(\"a is lagest than is\", a)\n",
    "elif b >= a and b >= c:\n",
    "    print(\"b is largest than is\", b)\n",
    "else:\n",
    "    print(\"C is largest than is\", c)        "
   ]
  },
  {
   "cell_type": "code",
   "execution_count": null,
   "id": "ee2b03cd",
   "metadata": {},
   "outputs": [],
   "source": [
    "# # Nested if statement\n",
    "# if outer_condition:\n",
    "#     #  Outer code block\n",
    "#     if inner_condition:\n",
    "#         # Inner code block\n",
    "        \n",
    "#     else:\n",
    "#         # Inner else code block\n",
    "\n",
    "# else:\n",
    "#     # outer else code block"
   ]
  },
  {
   "cell_type": "code",
   "execution_count": null,
   "id": "53afdbda",
   "metadata": {},
   "outputs": [
    {
     "name": "stdout",
     "output_type": "stream",
     "text": [
      "b value is big\n"
     ]
    }
   ],
   "source": [
    "# Example 1\n",
    "# In the following code example, wen can see first if condition\n",
    "# checks a is greater than b.\n",
    "# If yes the we've another if condition that checks \n",
    "# a is also greater than c\n",
    "# If yes, then if body will be executed \n",
    "\n",
    "a = 20\n",
    "b = 10\n",
    "c = 15\n",
    "\n",
    "if a > b:\n",
    "    if a > c:\n",
    "        print(\"a value is big\")\n",
    "    else:\n",
    "        print(\"C value is big\")    \n",
    "elif b > c:\n",
    "    print(\"b value is big\")\n",
    "else:\n",
    "    print(\"C is big\")    "
   ]
  },
  {
   "cell_type": "code",
   "execution_count": null,
   "id": "aa7ebefb",
   "metadata": {},
   "outputs": [
    {
     "name": "stdout",
     "output_type": "stream",
     "text": [
      "Largest: 30\n",
      "Middle: 20\n",
      "Smallest: 10\n"
     ]
    }
   ],
   "source": [
    "# Example 2\n",
    "num_1 = 10\n",
    "num_2 = 20\n",
    "num_3 = 30\n",
    "\n",
    "if num_1 >= num_2 and num_1 >= num_3:\n",
    "    largest = num_1\n",
    "    if num_2 >= num_3:\n",
    "        middle  = num_2\n",
    "        smallest = num_3\n",
    "    else:\n",
    "        middle = num_3\n",
    "        smallest = num_2 \n",
    "elif num_2 >= num_1 and num_2 >= num_3:\n",
    "    largest = num_2\n",
    "\n",
    "    if num_1 >= num_3:\n",
    "        middle = num_1\n",
    "        smallest = num_3\n",
    "    else:\n",
    "        middle = num_3\n",
    "        smallest = num_1 \n",
    "else:\n",
    "    largest = num_3   \n",
    "\n",
    "    if num_1 >= num_2:\n",
    "        middle = num_1\n",
    "        smallest = num_2\n",
    "    else:\n",
    "        middle = num_2\n",
    "        smallest = num_1\n",
    "\n",
    "print(\"Largest:\", largest)\n",
    "print(\"Middle:\", middle)\n",
    "print(\"Smallest:\", smallest)\n",
    "\n",
    "\n",
    "\n",
    "\n",
    "\n",
    "\n",
    "\n"
   ]
  },
  {
   "cell_type": "code",
   "execution_count": 32,
   "id": "ecb0fefa",
   "metadata": {},
   "outputs": [
    {
     "name": "stdout",
     "output_type": "stream",
     "text": [
      "Decending order 6: 30 20 10\n"
     ]
    }
   ],
   "source": [
    "# # nested if\n",
    "# num_1 = 10\n",
    "# num_2 = 20\n",
    "# num_3 = 30\n",
    "\n",
    "# if num_1  > num_2 and num_1  > num_3:\n",
    "#     if num_2 > num_3:\n",
    "#         print(\"Decending order:\", num_1, num_2, num_3)\n",
    "#     else:\n",
    "#         print(\"Decending order:\", num_1, num_3, num_2)\n",
    "# elif num_2 > num_1 and num_2 > num_3:\n",
    "#     if num_1 > num_3:\n",
    "#         print(\"Decending order:\", num_2, num_1, num_3)\n",
    "#     else:\n",
    "#         print(\"Decending order:\", num_2, num_3, num_1)\n",
    "# else:\n",
    "#     if num_1 > num_2:\n",
    "#         print(\"Decending order:\", num_3, num_1, num_2)\n",
    "#     else:\n",
    "#         print(\"Decending order:\", num_3, num_2, num_1)                \n",
    "\n",
    "num_1 = 10\n",
    "num_2 = 20\n",
    "num_3 = 30\n",
    "\n",
    "if num_1 > num_2 and num_1 > num_3:\n",
    "   if num_2 > num_3:\n",
    "      print(\"Decending order 1:\", num_1, num_2, num_3)\n",
    "   else:\n",
    "      print(\"Decending order 2:\", num_1, num_3, num_2)\n",
    "elif num_2 > num_1 and num_2 > num_3:\n",
    "   if num_1 > num_3:\n",
    "      print(\"Decending order 3:\", num_2, num_1, num_3)\n",
    "   else:\n",
    "       print(\"Decending order 4:\", num_2, num_3, num_1 )\n",
    "\n",
    "else:\n",
    "   if num_1 > num_2:\n",
    "      print(\"Decending order 5:\", num_3, num_1, num_2)\n",
    "   else:\n",
    "        print(\"Decending order 6:\", num_3, num_2, num_1)\n",
    "         \n",
    "         \n"
   ]
  },
  {
   "cell_type": "code",
   "execution_count": null,
   "id": "9f62fea8",
   "metadata": {},
   "outputs": [
    {
     "name": "stdout",
     "output_type": "stream",
     "text": [
      "Even\n"
     ]
    }
   ],
   "source": [
    "# Ternary Operator in python\n",
    "\n",
    "# It  simply allow testing a condition in a single line.\n",
    "# Replacing the multiple if-else making the code impact\n",
    "\n",
    "x = 10\n",
    "\n",
    "result =\"Even\" if x % 2 == 0 else \"Odd\"\n",
    "print(result)"
   ]
  },
  {
   "cell_type": "code",
   "execution_count": 41,
   "id": "9b2e438e",
   "metadata": {},
   "outputs": [
    {
     "name": "stdout",
     "output_type": "stream",
     "text": [
      "Absoulate value is: 15\n"
     ]
    }
   ],
   "source": [
    "# given  any integer n print the absoulte value using a ternary operator (without using) abs()\n",
    "\n",
    "n =-15\n",
    "absoulte_value = n if n >= 0 else -n\n",
    "print(\"Absoulate value is:\", absoulte_value)"
   ]
  },
  {
   "cell_type": "code",
   "execution_count": null,
   "id": "2cffd4ab",
   "metadata": {},
   "outputs": [
    {
     "name": "stdout",
     "output_type": "stream",
     "text": [
      "Ok\n"
     ]
    }
   ],
   "source": [
    "# Structural Pattern Matching\n",
    "# Form version 3.10 upwards,\n",
    "# Python has implemented a switch case feature\n",
    "# called \"structural pattern matching\"\n",
    "# You can implement this features with the match and case keyword.\n",
    "\n",
    "# This can even more powerful than simple switch case:\n",
    "#  you can match patterns, structures, and types \n",
    "\n",
    "# Basic syntax\n",
    "# default eka\n",
    "\n",
    "# match variable:\n",
    "#     case pattern_1:\n",
    "#         # Code block for pattern_1\n",
    "#     case pattern_2:\n",
    "#         # Code block for pattern_2\n",
    "#     case _:\n",
    "#         # Default code block if no patterns match\n",
    "\n",
    "# If the values of variable matches one of the patterns\n",
    "# the corresponding block of code is executed.\n",
    "\n",
    "# If the value of variable does not match any of the patterns,\n",
    "# the default(i.e. case_:) block of code is executed.\n",
    "\n",
    "# Example 1\n",
    "\n",
    "response = 203\n",
    "\n",
    "match response:\n",
    "    case 200 :\n",
    "        print(\"Ok\")\n",
    "    case 201:\n",
    "        print(\"Created\")\n",
    "    case 404:\n",
    "        print(\"404 Not Found\")\n",
    "    case 500:\n",
    "        print(\"500 Internal Server Error\")\n",
    "    case _:\n",
    "        print(\"Unknown response code:\", response)\n",
    "\n"
   ]
  },
  {
   "cell_type": "code",
   "execution_count": 47,
   "id": "1961d8d0",
   "metadata": {},
   "outputs": [
    {
     "name": "stdout",
     "output_type": "stream",
     "text": [
      " internal Server error\n"
     ]
    }
   ],
   "source": [
    "response_code = 502\n",
    "\n",
    "match response_code:\n",
    "    case 200 | 201:\n",
    "        print(\"Ok\")\n",
    "    case 300 | 307:\n",
    "        print(\"Redirection\")\n",
    "    case 400 | 404:\n",
    "        print(\"Bad request\")\n",
    "    case 500 | 502:\n",
    "        print(\" internal Server error\")  \n",
    "    case _:\n",
    "        print(\"Unknown response code:\", response_code)          \n"
   ]
  },
  {
   "cell_type": "code",
   "execution_count": 48,
   "id": "357afd98",
   "metadata": {},
   "outputs": [
    {
     "name": "stdout",
     "output_type": "stream",
     "text": [
      "Variable is 10\n"
     ]
    }
   ],
   "source": [
    "variable = 10\n",
    "\n",
    "match variable:\n",
    "    case 10:\n",
    "        print(\"Variable is 10\")\n",
    "    case 11:\n",
    "        print(\"Variable is 11\")\n",
    "    case _:\n",
    "        print(\"Variable  is neither 10 nor 11\")        "
   ]
  },
  {
   "cell_type": "code",
   "execution_count": 50,
   "id": "991b9fff",
   "metadata": {},
   "outputs": [
    {
     "name": "stdout",
     "output_type": "stream",
     "text": [
      "Monday\n"
     ]
    }
   ],
   "source": [
    "# write a python programee  that takes and interger input  from the user represent a week day number 1 to 7 and print the corresponding weekday name\n",
    "# using match case statement\n",
    "\n",
    "day_number = int (input(\"Enter the day number\"))\n",
    "\n",
    "match day_number:\n",
    "    case 1:\n",
    "        print(\"Monday\")\n",
    "    case 2:\n",
    "        print(\"Tuesday\")\n",
    "    case 3:\n",
    "        print(\"Wednesday\")\n",
    "    case 4:\n",
    "        print(\"Thursday\")\n",
    "    case 5:\n",
    "        print(\"Friday\")\n",
    "    case 6:\n",
    "        print(\"Saturday\")\n",
    "    case 7:\n",
    "        print(\"Sunday\")\n",
    "    case _:\n",
    "        print(\"Invalid day number. Please enter a number between 1 and 7.\")                            \n"
   ]
  },
  {
   "cell_type": "code",
   "execution_count": 52,
   "id": "9a4022b7",
   "metadata": {},
   "outputs": [
    {
     "name": "stdout",
     "output_type": "stream",
     "text": [
      "go\n"
     ]
    }
   ],
   "source": [
    "# Write a python programme that days an input string representing a traffic light color \n",
    "# red, yellow, green, or blinking\n",
    "# use Structural Pattern matching to print following\n",
    "#  print stop if color is red or blinking\n",
    "# print slow down if color is yellow\n",
    "# print go is color is green \n",
    "# print invalid color for any other input\n",
    "\n",
    "# Traffic light programme\n",
    "\n",
    "light_color = str.lower(input(\"Enter traffic light color, red, yellow, green, blinking: \"))\n",
    "\n",
    "match light_color:\n",
    "    case \"red\" | \"blinking\":\n",
    "        print(\"stop\")\n",
    "    case \"yellow\":\n",
    "        print(\"slow down\")\n",
    "    case \"green\":\n",
    "        print(\"go\")\n",
    "    case _:\n",
    "        print(\"Invalid color\")           \n",
    "\n",
    "\n"
   ]
  },
  {
   "cell_type": "code",
   "execution_count": null,
   "id": "6f03c097",
   "metadata": {},
   "outputs": [
    {
     "name": "stdout",
     "output_type": "stream",
     "text": [
      "List must contain 2 or 3 elements\n"
     ]
    }
   ],
   "source": [
    "number = [4, 7, 3]\n",
    "\n",
    "match number:\n",
    "    case [x, y]:\n",
    "        print(x * y)\n",
    "    case [x, y, z]:\n",
    "        print(x + y + z)\n",
    "    case _:\n",
    "        print(\"List must contain 2 or 3 elements\")        "
   ]
  },
  {
   "cell_type": "code",
   "execution_count": 59,
   "id": "73ddc50f",
   "metadata": {},
   "outputs": [
    {
     "name": "stdout",
     "output_type": "stream",
     "text": [
      "Average temperature for the first two days 30.0\n"
     ]
    }
   ],
   "source": [
    "#  Write a python programme that reads a list of tempture readins:\n",
    "# if the list as the extractly two element, print there average\n",
    "# if the list as a four element , calculate and print the different between the some of the first readings and the some of the last two readings\n",
    "# four any other list length , print\"un supported number of readings\"\n",
    "\n",
    "temperature_examples =[30, 30]\n",
    "\n",
    "match temperature_examples:\n",
    "    case(a, b):\n",
    "        print(\"Average temperature for the first two days\",(a + b )/ 2)\n",
    "    case(w, a, b, z):\n",
    "        print(\" different between the some of the first readings \", (w + a) - (b + z)) \n",
    "    case _:\n",
    "        print(\"un supported number of readings\")    \n",
    "       \n",
    "\n",
    "\n"
   ]
  },
  {
   "cell_type": "code",
   "execution_count": 60,
   "id": "036934d8",
   "metadata": {},
   "outputs": [
    {
     "name": "stdout",
     "output_type": "stream",
     "text": [
      "12\n",
      "8\n",
      "18\n"
     ]
    }
   ],
   "source": [
    "my_list = [12, 5, 8 , 9 , 18]\n",
    "\n",
    "for item in my_list:\n",
    "    if item % 2 == 0:\n",
    "        print(item)"
   ]
  },
  {
   "cell_type": "code",
   "execution_count": null,
   "id": "c891554e",
   "metadata": {},
   "outputs": [],
   "source": [
    "# Loops are fundamental programming constructs that allow you\n",
    "#  to repeatedly execute a block of code as long as certain condition is met "
   ]
  },
  {
   "cell_type": "code",
   "execution_count": null,
   "id": "0225de02",
   "metadata": {},
   "outputs": [],
   "source": [
    "# For loop \n",
    "# The for loop is used to iterate over a sequence\n",
    "# (such as list, tuple,  string or range)\n",
    "# and execute a block of code for each item in the sequence.\n",
    "\n",
    "# for item in squence:\n",
    "#     # code block to execute for each item\n"
   ]
  },
  {
   "cell_type": "code",
   "execution_count": 66,
   "id": "91ef8bf1",
   "metadata": {},
   "outputs": [
    {
     "name": "stdout",
     "output_type": "stream",
     "text": [
      "apple\n",
      "banana\n",
      "cherry\n"
     ]
    }
   ],
   "source": [
    "# Example 1\n",
    "\n",
    "fruits = [\"apple\", \"banana\", \"cherry\"]\n",
    "\n",
    "for fruit in fruits:\n",
    "    print(fruit)\n"
   ]
  },
  {
   "cell_type": "code",
   "execution_count": null,
   "id": "76144f7d",
   "metadata": {},
   "outputs": [
    {
     "name": "stdout",
     "output_type": "stream",
     "text": [
      "0\n",
      "1\n",
      "2\n",
      "3\n",
      "4\n"
     ]
    }
   ],
   "source": [
    "# Example 2:\n",
    "\n",
    "for j in range(0, 5):\n",
    "    print(j, end=\"\\n\")"
   ]
  },
  {
   "cell_type": "code",
   "execution_count": 69,
   "id": "96150a5e",
   "metadata": {},
   "outputs": [
    {
     "name": "stdout",
     "output_type": "stream",
     "text": [
      "1 st example\n",
      "1\n",
      "2\n",
      "3\n"
     ]
    }
   ],
   "source": [
    "print(\"1 st example\")\n",
    "\n",
    "lst = [1, 2, 3]\n",
    "\n",
    "for i in range(len(lst)):\n",
    "    print(lst[i], end=\"\\n\")"
   ]
  },
  {
   "cell_type": "code",
   "execution_count": 70,
   "id": "85afae8b",
   "metadata": {},
   "outputs": [
    {
     "name": "stdout",
     "output_type": "stream",
     "text": [
      "Square values of first 10 integers:\n",
      "Using for loop:\n",
      "1²= 1\n",
      "2²= 4\n",
      "3²= 9\n",
      "4²= 16\n",
      "5²= 25\n",
      "6²= 36\n",
      "7²= 49\n",
      "8²= 64\n",
      "9²= 81\n",
      "10²= 100\n"
     ]
    }
   ],
   "source": [
    "# write a python programe to display squere values of firstence intergers\n",
    "\n",
    "# Define the number of integers to square\n",
    "\n",
    "n = 10\n",
    "\n",
    "print(f\"Square values of first {n} integers:\")\n",
    "\n",
    "print(\"Using for loop:\")\n",
    "\n",
    "for i in range(1, n+1):\n",
    "    square = i ** 2\n",
    "    print(f\"{i}²= {square}\")\n",
    "\n"
   ]
  },
  {
   "cell_type": "code",
   "execution_count": 73,
   "id": "46c3b3e1",
   "metadata": {},
   "outputs": [
    {
     "name": "stdout",
     "output_type": "stream",
     "text": [
      "1 squre is 1\n",
      "2 squre is 4\n",
      "3 squre is 9\n",
      "4 squre is 16\n",
      "5 squre is 25\n",
      "6 squre is 36\n",
      "7 squre is 49\n",
      "8 squre is 64\n",
      "9 squre is 81\n",
      "10 squre is 100\n"
     ]
    }
   ],
   "source": [
    "# 1 11\n",
    "for i in range(1, 11):\n",
    "    print(i,\"squre is\",i ** 2)"
   ]
  },
  {
   "cell_type": "code",
   "execution_count": 74,
   "id": "d5ceeafd",
   "metadata": {},
   "outputs": [
    {
     "name": "stdout",
     "output_type": "stream",
     "text": [
      "squre numbers below  10\n",
      "1\n",
      "4\n",
      "9\n"
     ]
    }
   ],
   "source": [
    "# get a positive integer as a user input. then display  all squre numbers which are below than the input number\n",
    "\n",
    "\n",
    "num = int((input(\"Enter a positive number: \")))\n",
    "\n",
    "if num <= 0:\n",
    "    print(\"pleace entering the positive number\")\n",
    "else:\n",
    "    print(\"squre numbers below \", num)\n",
    "\n",
    "    for i in range(1, num): \n",
    "        square = i ** 2\n",
    "        if square < num:\n",
    "            print(square)"
   ]
  },
  {
   "cell_type": "code",
   "execution_count": 75,
   "id": "9ee505af",
   "metadata": {},
   "outputs": [
    {
     "name": "stdout",
     "output_type": "stream",
     "text": [
      "1\n",
      "4\n",
      "9\n"
     ]
    }
   ],
   "source": [
    "n = int(input(\"Enter a positive number:\"))\n",
    "\n",
    "if n <= 0:\n",
    "    print(\"Please enter a positive number.\")\n",
    "else:\n",
    "    for i in range(1, n):\n",
    "        square_value = i ** 2\n",
    "        if square_value < n:\n",
    "            print(square_value)\n",
    "        else:\n",
    "            break    \n",
    "            \n"
   ]
  },
  {
   "cell_type": "code",
   "execution_count": null,
   "id": "ae489ee1",
   "metadata": {},
   "outputs": [],
   "source": [
    "# Python code to demonstrate the linear search algorithm\n",
    "\n",
    "def linear_search(arr, target):\n",
    "    \"\"\"\n",
    "    Function to perform linear search\n",
    "    \n",
    "    Parameters:\n",
    "    arr (list): The list to search through\n",
    "    target: The element to search for\n",
    "    \n",
    "    Returns:\n",
    "    int: The index of the target element if found, -1 otherwise\n",
    "    \"\"\"\n",
    "    # Loop through each element in the array\n",
    "    for i in range(len(arr)):\n",
    "        # If element matches the target, return its index\n",
    "        if arr[i] == target:\n",
    "            return i\n",
    "    \n",
    "    # If target element is not found, return -1\n",
    "    return -1\n",
    "\n",
    "# Example usage\n",
    "my_list = [12, 45, 7, 23, 56, 89, 34, 2, 19]\n",
    "print(f\"List: {my_list}\")\n",
    "\n",
    "# Search for element 23\n",
    "to_find = 23\n",
    "result = linear_search(my_list, to_find)\n",
    "\n",
    "# Display the result\n",
    "if result != -1:\n",
    "    print(f\"Element {to_find} found at index {result}\")\n",
    "else:\n",
    "    print(f\"Element {to_find} not found in the list\")\n",
    "\n",
    "# Search for element 100 (not in the list)\n",
    "to_find = 100\n",
    "result = linear_search(my_list, to_find)\n",
    "\n",
    "# Display the result\n",
    "if result != -1:\n",
    "    print(f\"Element {to_find} found at index {result}\")\n",
    "else:\n",
    "    print(f\"Element {to_find} not found in the list\")\n",
    "\n",
    "# Let user try a search\n",
    "try:\n",
    "    user_target = int(input(\"Enter a number to search for: \"))\n",
    "    result = linear_search(my_list, user_target)\n",
    "    \n",
    "    if result != -1:\n",
    "        print(f\"Element {user_target} found at index {result}\")\n",
    "    else:\n",
    "        print(f\"Element {user_target} not found in the list\")\n",
    "except ValueError:\n",
    "    print(\"Please enter a valid number\")\n",
    "\n",
    "\n"
   ]
  },
  {
   "cell_type": "code",
   "execution_count": 82,
   "id": "8a909433",
   "metadata": {},
   "outputs": [
    {
     "name": "stdout",
     "output_type": "stream",
     "text": [
      "Target not found\n",
      "Target not found\n",
      "Target not found\n",
      "Target found\n"
     ]
    }
   ],
   "source": [
    "my_list = [10, 8, 20, 9, 11, 13, 18]\n",
    "\n",
    "target = 9\n",
    "found = False\n",
    "\n",
    "for i in my_list:\n",
    "    if i == target:\n",
    "        found = True\n",
    "        print(\"Target found\")\n",
    "        break\n",
    "    if not found:\n",
    "        print(\"Target not found\")\n",
    "       "
   ]
  },
  {
   "cell_type": "code",
   "execution_count": null,
   "id": "1bf42517",
   "metadata": {},
   "outputs": [],
   "source": [
    "# write a python programme that take a list of integers  and find the maximum value  using a for loop\n",
    "# don not use the bulid in max function\n",
    "\n",
    "my_list = [100, 8, 20, 9, -11, 13 , 200]\n",
    "\n",
    "max_value = my_list[0]\n",
    "  \n",
    "\n",
    "\n",
    "for  i in my_list:\n",
    "    if i > max_value:\n",
    "        max_value = i\n",
    "\n",
    "        print(\"The maximum value is \", max_value )"
   ]
  },
  {
   "cell_type": "code",
   "execution_count": 83,
   "id": "4171ed77",
   "metadata": {},
   "outputs": [
    {
     "name": "stdout",
     "output_type": "stream",
     "text": [
      "Squared values: [25, 100, 144, 64, 49]\n"
     ]
    }
   ],
   "source": [
    "# List comprehension\n",
    "\n",
    "# List comprehension is a concise way to generating lists \n",
    "#  by iterating over an iterable \n",
    "# and applying an expression to each element\n",
    "\n",
    "# [expression for item in iterable if condition]\n",
    "\n",
    "my_list = [5, 10, 12, 8, 7]\n",
    "# [expression for item in iterable if condition]\n",
    "result = [item ** 2 for item in my_list]\n",
    "\n",
    "print(\"Squared values:\", result)\n",
    "\n",
    "\n",
    "\n"
   ]
  },
  {
   "cell_type": "code",
   "execution_count": 84,
   "id": "a56e74af",
   "metadata": {},
   "outputs": [
    {
     "name": "stdout",
     "output_type": "stream",
     "text": [
      "Squares of even numbers between 1 and 10: [4, 16, 36, 64, 100]\n"
     ]
    }
   ],
   "source": [
    "# Create a list with the squre of even numbers between (1 and 10) using list comprehension\n",
    "\n",
    "even_squares =[i ** 2 for i in range(1, 11) if i % 2 == 0]\n",
    "print(\"Squares of even numbers between 1 and 10:\", even_squares)\n",
    "\n",
    "\n",
    "\n"
   ]
  },
  {
   "cell_type": "code",
   "execution_count": null,
   "id": "3124bad4",
   "metadata": {},
   "outputs": [],
   "source": [
    "#while Loop\n",
    "# The while loop repeatedly executes a block of code a long as certain condition is true."
   ]
  },
  {
   "cell_type": "code",
   "execution_count": 86,
   "id": "0bc5150e",
   "metadata": {},
   "outputs": [
    {
     "name": "stdout",
     "output_type": "stream",
     "text": [
      "0\n",
      "End\n",
      "1\n",
      "End\n",
      "2\n",
      "End\n",
      "3\n",
      "End\n",
      "4\n",
      "End\n"
     ]
    }
   ],
   "source": [
    "m = 5\n",
    "i = 0\n",
    "\n",
    "while i < m:\n",
    "    print(i, end=\"\\n\")\n",
    "    i = i + 1\n",
    "    print(\"End\")\n",
    "    "
   ]
  },
  {
   "cell_type": "code",
   "execution_count": 87,
   "id": "34c3c4c2",
   "metadata": {},
   "outputs": [
    {
     "name": "stdout",
     "output_type": "stream",
     "text": [
      "2\n"
     ]
    }
   ],
   "source": [
    "# Exiting from a loop using break\n",
    "\n",
    "# The break statement is used to immediately exit the loop\n",
    "# when a certain condition is met.\n",
    "\n",
    "numbers = [2, 7, 3, 9, 4, 6, 1]\n",
    "\n",
    "for num in numbers:\n",
    "    if num > 5:\n",
    "        break\n",
    "    print(num)"
   ]
  },
  {
   "cell_type": "code",
   "execution_count": 88,
   "id": "3126ba3e",
   "metadata": {},
   "outputs": [
    {
     "name": "stdout",
     "output_type": "stream",
     "text": [
      "7\n",
      "3\n",
      "9\n",
      "1\n"
     ]
    }
   ],
   "source": [
    "# Exiting from a loop using continue\n",
    "\n",
    "# The continue statement skips the current iteration \n",
    "# and moves on to the next one.\n",
    "\n",
    "numbers = [2, 7, 3, 9, 4, 6, 1]\n",
    "\n",
    "for num in numbers:\n",
    "    if num % 2 == 0:\n",
    "        continue\n",
    "    print(num)"
   ]
  },
  {
   "cell_type": "code",
   "execution_count": 89,
   "id": "9c5fb5ee",
   "metadata": {},
   "outputs": [
    {
     "name": "stdout",
     "output_type": "stream",
     "text": [
      "0\n",
      "1\n",
      "2\n",
      "3\n",
      "4\n",
      "Loop completed successfully.\n"
     ]
    }
   ],
   "source": [
    "# While loop with else\n",
    "\n",
    "count = 0\n",
    "\n",
    "while count < 5:\n",
    "    print(count)\n",
    "    count += 1\n",
    "else:\n",
    "    print(\"Loop completed successfully.\")"
   ]
  },
  {
   "cell_type": "code",
   "execution_count": 92,
   "id": "a7f12542",
   "metadata": {},
   "outputs": [
    {
     "name": "stdout",
     "output_type": "stream",
     "text": [
      "0\n",
      "1\n",
      "2\n",
      "3\n"
     ]
    }
   ],
   "source": [
    "count = 0\n",
    "\n",
    "while count < 5:\n",
    "    print(count)\n",
    "    if count == 3:\n",
    "        break\n",
    "    count +=1\n",
    "else:\n",
    "    print(\"Loop completed successfully.\")    "
   ]
  }
 ],
 "metadata": {
  "kernelspec": {
   "display_name": "Python 3",
   "language": "python",
   "name": "python3"
  },
  "language_info": {
   "codemirror_mode": {
    "name": "ipython",
    "version": 3
   },
   "file_extension": ".py",
   "mimetype": "text/x-python",
   "name": "python",
   "nbconvert_exporter": "python",
   "pygments_lexer": "ipython3",
   "version": "3.13.4"
  }
 },
 "nbformat": 4,
 "nbformat_minor": 5
}
