{
 "cells": [
  {
   "cell_type": "code",
   "execution_count": 9,
   "id": "3c9261d3",
   "metadata": {},
   "outputs": [
    {
     "name": "stdout",
     "output_type": "stream",
     "text": [
      "30\n"
     ]
    }
   ],
   "source": [
    "a = 10\n",
    "b = 20\n",
    "\n",
    "print(a+b)"
   ]
  },
  {
   "cell_type": "code",
   "execution_count": 10,
   "id": "ae33dfb1",
   "metadata": {},
   "outputs": [
    {
     "name": "stdout",
     "output_type": "stream",
     "text": [
      "800\n"
     ]
    }
   ],
   "source": [
    "num_1 = 80\n",
    "num_2 = 10\n",
    "\n",
    "print(num_1*num_2)"
   ]
  },
  {
   "cell_type": "code",
   "execution_count": 11,
   "id": "7fb75689",
   "metadata": {},
   "outputs": [],
   "source": [
    "_num =20"
   ]
  },
  {
   "cell_type": "code",
   "execution_count": 13,
   "id": "0726fec7",
   "metadata": {},
   "outputs": [
    {
     "name": "stdout",
     "output_type": "stream",
     "text": [
      "25\n",
      "<class 'int'>\n"
     ]
    }
   ],
   "source": [
    "num =25\n",
    "print(num)\n",
    "print(type(num))"
   ]
  },
  {
   "cell_type": "code",
   "execution_count": 16,
   "id": "985e0590",
   "metadata": {},
   "outputs": [
    {
     "name": "stdout",
     "output_type": "stream",
     "text": [
      "<class 'float'>\n"
     ]
    }
   ],
   "source": [
    "num_2 = 20.5\n",
    "print(type(num_2))\n"
   ]
  },
  {
   "cell_type": "code",
   "execution_count": 17,
   "id": "51846fc0",
   "metadata": {},
   "outputs": [
    {
     "name": "stdout",
     "output_type": "stream",
     "text": [
      "<class 'complex'>\n"
     ]
    }
   ],
   "source": [
    "a = 10 + 20j\n",
    "print(type(a))"
   ]
  },
  {
   "cell_type": "code",
   "execution_count": 1,
   "id": "a57b5669",
   "metadata": {},
   "outputs": [
    {
     "name": "stdout",
     "output_type": "stream",
     "text": [
      "2500000000000.0\n",
      "<class 'float'>\n"
     ]
    }
   ],
   "source": [
    "num_3 = 2.5e12\n",
    "\n",
    "print(num_3)\n",
    "print(type(num_3))"
   ]
  },
  {
   "cell_type": "code",
   "execution_count": 2,
   "id": "2d62093b",
   "metadata": {},
   "outputs": [
    {
     "name": "stdout",
     "output_type": "stream",
     "text": [
      "7 <class 'int'>\n",
      "7.0 <class 'float'>\n"
     ]
    }
   ],
   "source": [
    "x = 7\n",
    "\n",
    "a = float(x)\n",
    "\n",
    "print(x, type(x))\n",
    "print(a, type(a))"
   ]
  },
  {
   "cell_type": "code",
   "execution_count": 3,
   "id": "3723044d",
   "metadata": {},
   "outputs": [
    {
     "name": "stdout",
     "output_type": "stream",
     "text": [
      "20.8 <class 'float'>\n",
      "20 <class 'int'>\n"
     ]
    }
   ],
   "source": [
    "y = 20.8\n",
    "\n",
    "b = int(y)\n",
    "\n",
    "print(y, type(y))\n",
    "print(b, type(b))"
   ]
  },
  {
   "cell_type": "code",
   "execution_count": null,
   "id": "075f2e9e",
   "metadata": {},
   "outputs": [
    {
     "name": "stdout",
     "output_type": "stream",
     "text": [
      "[10, 5, 'John', 6.2, True]\n",
      "<class 'list'>\n",
      "5\n"
     ]
    }
   ],
   "source": [
    "my_list = [10, 5, \"John\", 6.2, True]\n",
    "\n",
    "print(my_list)\n",
    "print(type(my_list))\n",
    "# print(my_list[1])\n"
   ]
  },
  {
   "cell_type": "code",
   "execution_count": null,
   "id": "1f9ea7e8",
   "metadata": {},
   "outputs": [
    {
     "name": "stdout",
     "output_type": "stream",
     "text": [
      "John\n",
      "True\n",
      "John\n"
     ]
    }
   ],
   "source": [
    "print(my_list[2])\n",
    "\n"
   ]
  },
  {
   "cell_type": "code",
   "execution_count": 13,
   "id": "4e300b08",
   "metadata": {},
   "outputs": [
    {
     "name": "stdout",
     "output_type": "stream",
     "text": [
      "True\n",
      "John\n"
     ]
    }
   ],
   "source": [
    "print(my_list[-1])\n",
    "print(my_list[-3])"
   ]
  },
  {
   "cell_type": "code",
   "execution_count": null,
   "id": "6c2f2865",
   "metadata": {},
   "outputs": [
    {
     "name": "stdout",
     "output_type": "stream",
     "text": [
      "[5, 'John', 6.2]\n",
      "[10, 5, 'John']\n"
     ]
    }
   ],
   "source": [
    "print(my_list[1:4])"
   ]
  },
  {
   "cell_type": "code",
   "execution_count": null,
   "id": "33ca6d81",
   "metadata": {},
   "outputs": [
    {
     "name": "stdout",
     "output_type": "stream",
     "text": [
      "[6.2, True]\n"
     ]
    }
   ],
   "source": [
    "print(my_list[:3])"
   ]
  },
  {
   "cell_type": "code",
   "execution_count": 26,
   "id": "88d7d5cd",
   "metadata": {},
   "outputs": [
    {
     "name": "stdout",
     "output_type": "stream",
     "text": [
      "['John', 6.2, True]\n"
     ]
    }
   ],
   "source": [
    "print(my_list[ 2:])"
   ]
  },
  {
   "cell_type": "code",
   "execution_count": 27,
   "id": "cc9c2512",
   "metadata": {},
   "outputs": [
    {
     "name": "stdout",
     "output_type": "stream",
     "text": [
      "[10, 5, 'John', 6.2, True, 5]\n"
     ]
    }
   ],
   "source": [
    "my_list = [10, 5, \"John\", 6.2, True,5]\n",
    "print(my_list)\n"
   ]
  },
  {
   "cell_type": "code",
   "execution_count": null,
   "id": "ee4db74e",
   "metadata": {},
   "outputs": [
    {
     "name": "stdout",
     "output_type": "stream",
     "text": [
      "[10, 5, 'Kasun', 6.2, True, 5]\n"
     ]
    }
   ],
   "source": [
    "my_list[2] = \"Kasun\"\n",
    "print(my_list) "
   ]
  },
  {
   "cell_type": "code",
   "execution_count": 30,
   "id": "e18c8b08",
   "metadata": {},
   "outputs": [
    {
     "name": "stdout",
     "output_type": "stream",
     "text": [
      "[10, 5, 'Kate', 9.4, False, 5]\n"
     ]
    }
   ],
   "source": [
    "my_list[2:5] = [\"Kate\", 9.4, False]\n",
    "print(my_list)"
   ]
  },
  {
   "cell_type": "code",
   "execution_count": 34,
   "id": "57568caa",
   "metadata": {},
   "outputs": [
    {
     "name": "stdout",
     "output_type": "stream",
     "text": [
      "[10, 5, 'Kate', 9.4, False, 5, 'Dog', 'Dog', 'Dog']\n"
     ]
    }
   ],
   "source": [
    "my_list.append(\"Dog\")\n",
    "print(my_list)"
   ]
  },
  {
   "cell_type": "code",
   "execution_count": 35,
   "id": "ac64ff05",
   "metadata": {},
   "outputs": [
    {
     "name": "stdout",
     "output_type": "stream",
     "text": [
      "[10, 5, 'Smith', 'Kate', 9.4, False, 5, 'Dog', 'Dog', 'Dog']\n"
     ]
    }
   ],
   "source": [
    "my_list.insert(2, \"Smith\")\n",
    "print(my_list)"
   ]
  },
  {
   "cell_type": "code",
   "execution_count": 36,
   "id": "25f03108",
   "metadata": {},
   "outputs": [
    {
     "name": "stdout",
     "output_type": "stream",
     "text": [
      "[10, 6, 4, 3, 2, 25, 10, 20]\n"
     ]
    }
   ],
   "source": [
    "my_list_1= [10,6, 4,3,2]\n",
    "my_list_2 = [25, 10, 20]\n",
    "\n",
    "my_list_1.extend(my_list_2)\n",
    "\n",
    "print(my_list_1)"
   ]
  },
  {
   "cell_type": "code",
   "execution_count": 38,
   "id": "6b76cfe5",
   "metadata": {},
   "outputs": [
    {
     "name": "stdout",
     "output_type": "stream",
     "text": [
      "[10, 'cat', 5, 'apple', 28]\n",
      "[10, 5, 'apple', 28]\n"
     ]
    }
   ],
   "source": [
    "my_list = [10, \"cat\", 5, \"apple\", 28]\n",
    "print(my_list)\n",
    "\n",
    "my_list.remove(\"cat\")\n",
    "print(my_list)"
   ]
  },
  {
   "cell_type": "code",
   "execution_count": 39,
   "id": "f8df4c2a",
   "metadata": {},
   "outputs": [
    {
     "name": "stdout",
     "output_type": "stream",
     "text": [
      "[10, 'apple', 28]\n"
     ]
    }
   ],
   "source": [
    "my_list.pop(1)\n",
    "print(my_list)"
   ]
  },
  {
   "cell_type": "code",
   "execution_count": 40,
   "id": "1cb98f05",
   "metadata": {},
   "outputs": [
    {
     "name": "stdout",
     "output_type": "stream",
     "text": [
      "['Amal', 'Binu', 'Chamara', 'Dilani']\n"
     ]
    }
   ],
   "source": [
    "students = [\"Amal\", \"Binu\", \"Chamara\"]\n",
    "\n",
    "students.append(\"Dilani\")\n",
    "\n",
    "print(students)"
   ]
  },
  {
   "cell_type": "code",
   "execution_count": 41,
   "id": "d56f8c20",
   "metadata": {},
   "outputs": [
    {
     "name": "stdout",
     "output_type": "stream",
     "text": [
      "['Amal', 'Binu', 'Ishan', 'Chamara', 'Dilani']\n"
     ]
    }
   ],
   "source": [
    "students.insert(2, \"Ishan\")\n",
    "print(students)"
   ]
  },
  {
   "cell_type": "code",
   "execution_count": 42,
   "id": "3ccfc941",
   "metadata": {},
   "outputs": [
    {
     "name": "stdout",
     "output_type": "stream",
     "text": [
      "['Binu', 'Ishan', 'Chamara', 'Dilani']\n"
     ]
    }
   ],
   "source": [
    "students.remove(\"Amal\")\n",
    "print(students)"
   ]
  },
  {
   "cell_type": "code",
   "execution_count": 44,
   "id": "0d290076",
   "metadata": {},
   "outputs": [
    {
     "name": "stdout",
     "output_type": "stream",
     "text": [
      "['Farash', 'Binu', 'Farash', 'Ishan', 'Chamara', 'Dilani']\n"
     ]
    }
   ],
   "source": [
    "students.insert(0, \"Farash\")\n",
    "print(students)"
   ]
  },
  {
   "cell_type": "code",
   "execution_count": 45,
   "id": "1ef7c57a",
   "metadata": {},
   "outputs": [
    {
     "name": "stdout",
     "output_type": "stream",
     "text": [
      "['Farash', 'Binu', 'Farash', 'Ishan', 'Chamara', 'Dilani']\n"
     ]
    }
   ],
   "source": [
    "print(students)"
   ]
  },
  {
   "cell_type": "code",
   "execution_count": 46,
   "id": "027511fa",
   "metadata": {},
   "outputs": [
    {
     "name": "stdout",
     "output_type": "stream",
     "text": [
      "5\n"
     ]
    }
   ],
   "source": [
    "my_list = [10, 6, 22, 12, 9]\n",
    "print(len(my_list))"
   ]
  },
  {
   "cell_type": "code",
   "execution_count": 47,
   "id": "ae7e7f5d",
   "metadata": {},
   "outputs": [
    {
     "name": "stdout",
     "output_type": "stream",
     "text": [
      "[10, 6, 12, 9]\n"
     ]
    }
   ],
   "source": [
    "del my_list[2]\n",
    "print(my_list)"
   ]
  },
  {
   "cell_type": "code",
   "execution_count": 48,
   "id": "3f2c7e25",
   "metadata": {},
   "outputs": [
    {
     "ename": "NameError",
     "evalue": "name 'my_list' is not defined",
     "output_type": "error",
     "traceback": [
      "\u001b[31m---------------------------------------------------------------------------\u001b[39m",
      "\u001b[31mNameError\u001b[39m                                 Traceback (most recent call last)",
      "\u001b[36mCell\u001b[39m\u001b[36m \u001b[39m\u001b[32mIn[48]\u001b[39m\u001b[32m, line 2\u001b[39m\n\u001b[32m      1\u001b[39m \u001b[38;5;28;01mdel\u001b[39;00m my_list\n\u001b[32m----> \u001b[39m\u001b[32m2\u001b[39m \u001b[38;5;28mprint\u001b[39m(\u001b[38;5;28mlen\u001b[39m(\u001b[43mmy_list\u001b[49m))\n",
      "\u001b[31mNameError\u001b[39m: name 'my_list' is not defined"
     ]
    }
   ],
   "source": [
    "del my_list\n",
    "print(len(my_list))"
   ]
  },
  {
   "cell_type": "code",
   "execution_count": 52,
   "id": "2ecb2e88",
   "metadata": {},
   "outputs": [
    {
     "name": "stdout",
     "output_type": "stream",
     "text": [
      "['Dog', 'apple', 'banana', 'bird', 'cat']\n"
     ]
    }
   ],
   "source": [
    "my_list = [\"banana\", \"apple\", \"cat\", \"bird\", \"Dog\"]\n",
    "\n",
    "my_list.sort()\n",
    "\n",
    "print(my_list)"
   ]
  },
  {
   "cell_type": "code",
   "execution_count": 54,
   "id": "b509dfd4",
   "metadata": {},
   "outputs": [
    {
     "name": "stdout",
     "output_type": "stream",
     "text": [
      "[24, 13, 12, 11, 10, 8]\n"
     ]
    }
   ],
   "source": [
    "num_list = [10, 8, 24, 12, 13, 11]\n",
    "\n",
    "num_list.sort(reverse=True)\n",
    "\n",
    "print(num_list)\n",
    "# Decending order"
   ]
  },
  {
   "cell_type": "code",
   "execution_count": 55,
   "id": "afbcea40",
   "metadata": {},
   "outputs": [
    {
     "name": "stdout",
     "output_type": "stream",
     "text": [
      "[10, 12, 22, 4, 3]\n",
      "[10, 12, 22, 4, 3]\n"
     ]
    }
   ],
   "source": [
    "my_list_1 = [10, 12, 9, 4, 3]\n",
    "\n",
    "my_list_2 = my_list_1\n",
    "\n",
    "my_list_1[2] = 22\n",
    "\n",
    "print(my_list_1)\n",
    "print(my_list_2)"
   ]
  },
  {
   "cell_type": "code",
   "execution_count": 57,
   "id": "2ab4525c",
   "metadata": {},
   "outputs": [
    {
     "name": "stdout",
     "output_type": "stream",
     "text": [
      "[10, 12, 9, 4, 3]\n",
      "[10, 12, 9, 4, 3]\n",
      "[10, 15, 9, 4, 3]\n",
      "[10, 12, 9, 4, 3]\n"
     ]
    }
   ],
   "source": [
    "my_list_1 = [10, 12, 9, 4, 3]\n",
    "my_list_2 = my_list_1.copy()\n",
    "\n",
    "print(my_list_1)\n",
    "print(my_list_2)\n",
    "\n",
    "my_list_1[1] = 15\n",
    "print(my_list_1)\n",
    "print(my_list_2)"
   ]
  },
  {
   "cell_type": "code",
   "execution_count": 58,
   "id": "135598eb",
   "metadata": {},
   "outputs": [
    {
     "name": "stdout",
     "output_type": "stream",
     "text": [
      "[3, 4, 9, 15, 10]\n"
     ]
    }
   ],
   "source": [
    "my_list_1.reverse()\n",
    "print(my_list_1)"
   ]
  },
  {
   "cell_type": "code",
   "execution_count": 59,
   "id": "44ff3e17",
   "metadata": {},
   "outputs": [
    {
     "name": "stdout",
     "output_type": "stream",
     "text": [
      "[10, 12, 9, 4, 3, 4, 6, 5]\n"
     ]
    }
   ],
   "source": [
    "# List joining\n",
    "\n",
    "my_list_1 = [10, 12, 9, 4, 3]\n",
    "\n",
    "my_list_2 = [4, 6, 5]\n",
    "\n",
    "new_list = my_list_1 + my_list_2\n",
    "\n",
    "print(new_list)"
   ]
  },
  {
   "cell_type": "code",
   "execution_count": null,
   "id": "77ba195d",
   "metadata": {},
   "outputs": [],
   "source": [
    "n = -15  # you can change this value to test with other integers\n",
    "\n",
    "absolute_value = n if n >= 0 else -n\n",
    "print(\"Absolute value of\", n, \"is\", absolute_value)"
   ]
  },
  {
   "cell_type": "code",
   "execution_count": null,
   "id": "83ac2ec4",
   "metadata": {},
   "outputs": [
    {
     "name": "stdout",
     "output_type": "stream",
     "text": [
      "Go\n"
     ]
    },
    {
     "ename": "",
     "evalue": "",
     "output_type": "error",
     "traceback": [
      "\u001b[1;31mThe Kernel crashed while executing code in the current cell or a previous cell. \n",
      "\u001b[1;31mPlease review the code in the cell(s) to identify a possible cause of the failure. \n",
      "\u001b[1;31mClick <a href='https://aka.ms/vscodeJupyterKernelCrash'>here</a> for more info. \n",
      "\u001b[1;31mView Jupyter <a href='command:jupyter.viewOutput'>log</a> for further details."
     ]
    }
   ],
   "source": [
    "# Traffic Light Program using Structural Pattern Matching\n",
    "\n",
    "# Get input from user\n",
    "light_color = input(\"Enter traffic light color (red, yellow, green, or blinking): \").lower()\n",
    "\n",
    "# Use pattern matching to determine action\n",
    "match light_color:\n",
    "    case \"red\" | \"blinking\":  # Multiple patterns with the same action\n",
    "        print(\"Stop\")\n",
    "    case \"yellow\":\n",
    "        print(\"Slow down\")\n",
    "    case \"green\":\n",
    "        print(\"Go\")\n",
    "    case _:  # Default case for any other input\n",
    "        print(\"Invalid color\")\n"
   ]
  },
  {
   "cell_type": "code",
   "execution_count": null,
   "id": "6b01abf0",
   "metadata": {},
   "outputs": [],
   "source": [
    "# Program to analyze temperature readings based on list length\n",
    "\n",
    "# Sample temperature readings lists to test\n",
    "temperature_examples = [\n",
    "    [25.5, 27.8],               # List with 2 elements\n",
    "    [22.1, 23.4, 25.6, 26.8],    # List with 4 elements\n",
    "    [20.5, 22.3, 24.1],          # List with 3 elements (unsupported)\n",
    "    [19.2, 20.8, 22.4, 23.9, 25.1]  # List with 5 elements (unsupported)\n",
    "]\n",
    "\n",
    "# Function to analyze temperature readings\n",
    "def analyze_temperatures(temperatures):\n",
    "    # Check length of the list\n",
    "    if len(temperatures) == 2:\n",
    "        # Calculate average for list with exactly 2 elements\n",
    "        average = sum(temperatures) / 2\n",
    "        print(f\"List has exactly 2 readings. Average temperature: {average:.2f}\")\n",
    "    \n",
    "    elif len(temperatures) == 4:\n",
    "        # Calculate difference between sum of first two and last two readings\n",
    "        first_two_sum = temperatures[0] + temperatures[1]\n",
    "        last_two_sum = temperatures[2] + temperatures[3]\n",
    "        difference = first_two_sum - last_two_sum\n",
    "        print(f\"List has exactly 4 readings.\")\n",
    "        print(f\"Sum of first two readings: {first_two_sum:.2f}\")\n",
    "        print(f\"Sum of last two readings: {last_two_sum:.2f}\")\n",
    "        print(f\"Difference: {difference:.2f}\")\n",
    "    \n",
    "    else:\n",
    "        # Any other list length is unsupported\n",
    "        print(f\"Unsupported number of readings: {len(temperatures)}\")\n",
    "\n",
    "# Test with each example\n",
    "for i, temp_list in enumerate(temperature_examples):\n",
    "    print(f\"\\nExample {i+1}: {temp_list}\")\n",
    "    analyze_temperatures(temp_list)\n",
    "\n",
    "# Interactive input (commented out - uncomment to use)\n",
    "'''\n",
    "try:\n",
    "    # Get user input as a comma-separated list of temperatures\n",
    "    user_input = input(\"Enter temperature readings separated by commas: \")\n",
    "    \n",
    "    # Convert input to a list of floats\n",
    "    user_temperatures = [float(temp) for temp in user_input.split(\",\")]\n",
    "    \n",
    "    # Analyze the user's temperature list\n",
    "    print(\"\\nAnalyzing your temperature readings:\")\n",
    "    analyze_temperatures(user_temperatures)\n",
    "    \n",
    "except ValueError:\n",
    "    print(\"Error: Please enter valid numbers separated by commas.\")\n",
    "'''\n"
   ]
  },
  {
   "cell_type": "code",
   "execution_count": null,
   "id": "8093e78d",
   "metadata": {},
   "outputs": [],
   "source": [
    "# Program to analyze temperature readings using structural pattern matching\n",
    "\n",
    "# Sample temperature readings lists to test\n",
    "temperature_examples = [\n",
    "    [25.5, 27.8],               # List with 2 elements\n",
    "    [22.1, 23.4, 25.6, 26.8],    # List with 4 elements\n",
    "    [20.5, 22.3, 24.1],          # List with 3 elements (unsupported)\n",
    "    [19.2, 20.8, 22.4, 23.9, 25.1]  # List with 5 elements (unsupported)\n",
    "]\n",
    "\n",
    "# Function to analyze temperature readings using match-case\n",
    "def analyze_temperatures(temperatures):\n",
    "    # Use match statement to check the length of the list\n",
    "    match len(temperatures):\n",
    "        case 2:\n",
    "            # Calculate average for list with exactly 2 elements\n",
    "            average = sum(temperatures) / 2\n",
    "            print(f\"List has exactly 2 readings. Average temperature: {average:.2f}\")\n",
    "        \n",
    "        case 4:\n",
    "            # Calculate difference between sum of first two and last two readings\n",
    "            first_two_sum = temperatures[0] + temperatures[1]\n",
    "            last_two_sum = temperatures[2] + temperatures[3]\n",
    "            difference = first_two_sum - last_two_sum\n",
    "            print(f\"List has exactly 4 readings.\")\n",
    "            print(f\"Sum of first two readings: {first_two_sum:.2f}\")\n",
    "            print(f\"Sum of last two readings: {last_two_sum:.2f}\")\n",
    "            print(f\"Difference: {difference:.2f}\")\n",
    "        \n",
    "        case _:\n",
    "            # Default case for any other list length\n",
    "            print(f\"Unsupported number of readings: {len(temperatures)}\")\n",
    "\n",
    "# Test with each example\n",
    "for i, temp_list in enumerate(temperature_examples):\n",
    "    print(f\"\\nExample {i+1}: {temp_list}\")\n",
    "    analyze_temperatures(temp_list)\n",
    "\n",
    "# Interactive input (uncomment to use)\n",
    "'''\n",
    "try:\n",
    "    # Get user input as a comma-separated list of temperatures\n",
    "    user_input = input(\"Enter temperature readings separated by commas: \")\n",
    "    \n",
    "    # Convert input to a list of floats\n",
    "    user_temperatures = [float(temp) for temp in user_input.split(\",\")]\n",
    "    \n",
    "    # Analyze the user's temperature list\n",
    "    print(\"\\nAnalyzing your temperature readings:\")\n",
    "    analyze_temperatures(user_temperatures)\n",
    "    \n",
    "except ValueError:\n",
    "    print(\"Error: Please enter valid numbers separated by commas.\")\n",
    "'''\n"
   ]
  },
  {
   "cell_type": "code",
   "execution_count": null,
   "id": "b6ee418d",
   "metadata": {},
   "outputs": [],
   "source": [
    "# Program to display square values of the first N integers\n",
    "\n",
    "# Define the number of integers to square\n",
    "n = 10  # Change this value to adjust how many squares to calculate\n",
    "\n",
    "print(f\"Squares of first {n} integers:\")\n",
    "\n",
    "# Method 1: Using a for loop\n",
    "print(\"\\nUsing for loop:\")\n",
    "for i in range(1, n+1):\n",
    "    square = i ** 2\n",
    "    print(f\"{i}² = {square}\")\n",
    "\n",
    "# Method 2: Using list comprehension\n",
    "print(\"\\nUsing list comprehension:\")\n",
    "squares = [i ** 2 for i in range(1, n+1)]\n",
    "for i, square in enumerate(squares, 1):\n",
    "    print(f\"{i}² = {square}\")\n",
    "\n",
    "# Method 3: Using dictionary comprehension\n",
    "print(\"\\nUsing dictionary:\")\n",
    "square_dict = {i: i ** 2 for i in range(1, n+1)}\n",
    "for num, square in square_dict.items():\n",
    "    print(f\"{num}² = {square}\")\n"
   ]
  },
  {
   "cell_type": "code",
   "execution_count": null,
   "id": "7c97dc4a",
   "metadata": {},
   "outputs": [],
   "source": [
    "# Simple Python Code Examples\n",
    "\n",
    "# Example 1: Basic calculator\n",
    "def calculator(a, b, operation):\n",
    "    if operation == '+':\n",
    "        return a + b\n",
    "    elif operation == '-':\n",
    "        return a - b\n",
    "    elif operation == '*':\n",
    "        return a * b\n",
    "    elif operation == '/':\n",
    "        if b != 0:  # Prevent division by zero\n",
    "            return a / b\n",
    "        else:\n",
    "            return \"Error: Division by zero\"\n",
    "    else:\n",
    "        return \"Error: Invalid operation\"\n",
    "\n",
    "# Test the calculator\n",
    "num1 = 10\n",
    "num2 = 5\n",
    "print(f\"{num1} + {num2} = {calculator(num1, num2, '+')}\")  # Addition\n",
    "print(f\"{num1} - {num2} = {calculator(num1, num2, '-')}\")  # Subtraction\n",
    "print(f\"{num1} * {num2} = {calculator(num1, num2, '*')}\")  # Multiplication\n",
    "print(f\"{num1} / {num2} = {calculator(num1, num2, '/')}\")  # Division"
   ]
  },
  {
   "cell_type": "code",
   "execution_count": null,
   "id": "377d7c62",
   "metadata": {},
   "outputs": [],
   "source": [
    "# Program to display all square numbers below a given input number\n",
    "\n",
    "# Get user input\n",
    "try:\n",
    "    upper_limit = int(input(\"Enter a positive integer: \"))\n",
    "    \n",
    "    # Validate input\n",
    "    if upper_limit <= 0:\n",
    "        print(\"Please enter a positive integer greater than 0.\")\n",
    "    else:\n",
    "        print(f\"Square numbers below {upper_limit}:\")\n",
    "        \n",
    "        # Find the largest integer whose square is less than the upper limit\n",
    "        i = 1\n",
    "        while i*i < upper_limit:\n",
    "            print(f\"{i}² = {i*i}\")\n",
    "            i += 1\n",
    "            \n",
    "        # Check if any square numbers were found\n",
    "        if i == 1:\n",
    "            print(\"There are no square numbers below\", upper_limit)\n",
    "            \n",
    "except ValueError:\n",
    "    print(\"Invalid input. Please enter a valid integer.\")\n"
   ]
  },
  {
   "cell_type": "code",
   "execution_count": null,
   "id": "b00729fa",
   "metadata": {},
   "outputs": [],
   "source": []
  },
  {
   "cell_type": "code",
   "execution_count": null,
   "id": "7771685c",
   "metadata": {},
   "outputs": [],
   "source": [
    "# Program to display all square numbers below a given input number\n",
    "\n",
    "# Get user input\n",
    "try:\n",
    "    upper_limit = int(input(\"Enter a positive integer: \"))\n",
    "    \n",
    "    # Validate input\n",
    "    if upper_limit <= 0:\n",
    "        print(\"Please enter a positive integer greater than 0.\")\n",
    "    else:\n",
    "        print(f\"Square numbers below {upper_limit}:\")\n",
    "        \n",
    "        # Find all square numbers below the upper limit using a loop\n",
    "        i = 1\n",
    "        while i*i < upper_limit:\n",
    "            print(f\"{i}² = {i*i}\")\n",
    "            i += 1\n",
    "            \n",
    "        # Check if any square numbers were found\n",
    "        if i == 1:\n",
    "            print(\"There are no square numbers below\", upper_limit)\n",
    "            \n",
    "except ValueError:\n",
    "    print(\"Invalid input. Please enter a valid integer.\")"
   ]
  },
  {
   "cell_type": "code",
   "execution_count": null,
   "id": "d927ef86",
   "metadata": {},
   "outputs": [],
   "source": []
  }
 ],
 "metadata": {
  "kernelspec": {
   "display_name": "Python 3",
   "language": "python",
   "name": "python3"
  },
  "language_info": {
   "codemirror_mode": {
    "name": "ipython",
    "version": 3
   },
   "file_extension": ".py",
   "mimetype": "text/x-python",
   "name": "python",
   "nbconvert_exporter": "python",
   "pygments_lexer": "ipython3",
   "version": "3.13.4"
  }
 },
 "nbformat": 4,
 "nbformat_minor": 5
}
