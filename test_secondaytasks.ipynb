{
 "cells": [
  {
   "cell_type": "code",
   "execution_count": null,
   "id": "9819fb87",
   "metadata": {},
   "outputs": [
    {
     "name": "stdout",
     "output_type": "stream",
     "text": [
      "('tennis', 'cricket', 'football')\n",
      "<class 'tuple'>\n",
      "cricket\n",
      "3\n"
     ]
    }
   ],
   "source": [
    "# Tuples\n",
    "sports = (\"tennis\", \"cricket\", \"football\")\n",
    "\n",
    "print(sports)\n",
    "print(type(sports))\n",
    "print(sports[1])\n",
    "print(len(sports))\n",
    "\n",
    "\n",
    "\n"
   ]
  },
  {
   "cell_type": "code",
   "execution_count": null,
   "id": "ae8af4b4",
   "metadata": {},
   "outputs": [
    {
     "name": "stdout",
     "output_type": "stream",
     "text": [
      "('pizza',) <class 'tuple'> 1\n"
     ]
    }
   ],
   "source": [
    "\n",
    "foods = (\"pizza\",)\n",
    "\n",
    "print(foods, type(foods), len(foods))\n",
    "\n"
   ]
  },
  {
   "cell_type": "code",
   "execution_count": null,
   "id": "44c990a0",
   "metadata": {},
   "outputs": [
    {
     "name": "stdout",
     "output_type": "stream",
     "text": [
      "('tennis', 30, True, 'cricket', 'football') <class 'tuple'>\n",
      "(True, 'cricket', 'football')\n",
      "('tennis', 30, True, 'cricket')\n",
      "(True, 'cricket', 'football')\n"
     ]
    }
   ],
   "source": [
    "my_tuple = (\"tennis\", 30, True, \"cricket\", \"football\")\n",
    "\n",
    "print(my_tuple, type(my_tuple))\n",
    "\n",
    "print(my_tuple[2:5]) # Slicing the tuple\n",
    "\n",
    "print(my_tuple[:4])\n",
    "\n",
    "print(my_tuple[2:])\n",
    "\n",
    "\n",
    "\n",
    "\n",
    "\n"
   ]
  },
  {
   "cell_type": "code",
   "execution_count": 10,
   "id": "774c9968",
   "metadata": {},
   "outputs": [
    {
     "name": "stdout",
     "output_type": "stream",
     "text": [
      "['apple', 'banana', 'orange'] <class 'list'>\n",
      "['apple', 'Grapes', 'orange']\n",
      "('apple', 'Grapes', 'orange') <class 'tuple'>\n"
     ]
    }
   ],
   "source": [
    "fruits = (\"apple\", \"banana\", \"orange\")\n",
    "\n",
    "x = list(fruits)\n",
    "\n",
    "print(x, type(x))\n",
    "\n",
    "x[1] =\"Grapes\"\n",
    "\n",
    "print(x)\n",
    "\n",
    "fruits = tuple(x)\n",
    "print(fruits, type(fruits))"
   ]
  },
  {
   "cell_type": "code",
   "execution_count": 14,
   "id": "3447cf4d",
   "metadata": {},
   "outputs": [
    {
     "name": "stdout",
     "output_type": "stream",
     "text": [
      "((1, 2, 3), ('a', 'b', 'c'), (True, False)) <class 'tuple'>\n",
      "1\n",
      "b\n",
      "True\n"
     ]
    }
   ],
   "source": [
    "nested_tuple = ((1, 2, 3), (\"a\", \"b\", \"c\"), (True, False))\n",
    "\n",
    "print(nested_tuple, type(nested_tuple))\n",
    "\n",
    "print(nested_tuple[0][0])\n",
    "print(nested_tuple[1][1])\n",
    "print(nested_tuple[2][0])\n",
    "\n"
   ]
  },
  {
   "cell_type": "code",
   "execution_count": null,
   "id": "6ec18b62",
   "metadata": {},
   "outputs": [
    {
     "name": "stdout",
     "output_type": "stream",
     "text": [
      "{'cricket', 'tennis', 'football'} <class 'set'>\n",
      "3\n",
      "{'male', True, 34, 'rubby', 40, 'abc'}\n"
     ]
    }
   ],
   "source": [
    "# Sets\n",
    "# Sets are mutable\n",
    "\n",
    "sports= {\"tennis\", \"cricket\", \"football\"}\n",
    "\n",
    "print(sports, type(sports))\n",
    "\n",
    "this_set = {\"apple\", \"banana\", \"Cherry\"}\n",
    "print(len(this_set))\n",
    "\n",
    "# A Set can contain different data types\n",
    "set_1 = {\"abc\", 34, True, 40, \"male\"}\n",
    "\n",
    "\n",
    "\n",
    "\n"
   ]
  },
  {
   "cell_type": "code",
   "execution_count": 23,
   "id": "5efb3765",
   "metadata": {},
   "outputs": [
    {
     "name": "stdout",
     "output_type": "stream",
     "text": [
      "{'cricket', 'tennis', 'football', 'soccer'}\n",
      "{'basketball', 'soccer', 'tennis', 'cricket', 'volleyball', 'football'}\n",
      "{'basketball', 'soccer', 'tennis', 'volleyball', 'football'}\n"
     ]
    }
   ],
   "source": [
    "sports = {\"tennis\", \"cricket\", \"football\"}\n",
    "\n",
    "sports.add(\"soccer\") # Adding an item to the set\n",
    "\n",
    "print(sports)\n",
    "# one item can be added at a time\n",
    "\n",
    "sports.update([\"basketball\", \"volleyball\"])  # Adding multiple items to the set\n",
    "\n",
    "print(sports)\n",
    "\n",
    "sports.remove(\"cricket\")  # Removing an item from the set\n",
    "\n",
    "print(sports)\n"
   ]
  }
 ],
 "metadata": {
  "kernelspec": {
   "display_name": "Python 3",
   "language": "python",
   "name": "python3"
  },
  "language_info": {
   "codemirror_mode": {
    "name": "ipython",
    "version": 3
   },
   "file_extension": ".py",
   "mimetype": "text/x-python",
   "name": "python",
   "nbconvert_exporter": "python",
   "pygments_lexer": "ipython3",
   "version": "3.13.4"
  }
 },
 "nbformat": 4,
 "nbformat_minor": 5
}
